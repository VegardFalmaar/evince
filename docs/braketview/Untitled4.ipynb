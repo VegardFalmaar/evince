{
 "cells": [
  {
   "cell_type": "code",
   "execution_count": null,
   "id": "2cf83f46",
   "metadata": {},
   "outputs": [],
   "source": [
    "import bubblebox as bb\n",
    "import numpy as np\n",
    "from bubblebox.showcase import fcc_custom\n",
    "from bubblebox.mdbox import distance_matrix, distances\n",
    "from bubblebox.mdbox import lj_force, no_force, hook_force"
   ]
  },
  {
   "cell_type": "code",
   "execution_count": null,
   "id": "8385a97b",
   "metadata": {},
   "outputs": [],
   "source": [
    "def connect_to_n_nearest_neighbors(b):\n",
    "    b = fcc_custom()\n",
    "\n",
    "    sphere = b.pos[:,np.sum(b.pos**2, axis = 0)<4.5**2]\n",
    "\n",
    "    b = bb.mdbox(sphere.shape[1], size = (7,7, 7))\n",
    "\n",
    "    b.pos = sphere\n",
    "    \n",
    "    \n"
   ]
  },
  {
   "cell_type": "code",
   "execution_count": null,
   "id": "7084cd60",
   "metadata": {},
   "outputs": [],
   "source": [
    "b = fcc_custom(size=(6,6,6))\n",
    "\n",
    "\n",
    "sphere = b.pos[:,np.sum(b.pos**2, axis = 0)<7.0**2]\n",
    "\n",
    "b = bb.mdbox(sphere.shape[1], size = (22,22,22))\n",
    "b.set_forces(no_force)\n",
    "\n",
    "b.pos = sphere*1.5\n",
    "\n",
    "masses = b.masses\n",
    "masses[np.sum(b.pos**2, axis = 0)>6.5**2] = 8\n",
    "\n",
    "b.set_masses(masses)\n",
    "\n",
    "d = distance_matrix(b.pos.T)**.5\n",
    "dmin = d[0, 1:].min()\n",
    "#print(dmin = sigma*2**(1/6))\n",
    "\n",
    "print(dmin, 1.5*np.sqrt(2))\n",
    "for i in range(len(d)):\n",
    "    bubbles_a = [i]\n",
    "    bubbles_b = [np.arange(i+1, len(d))[d[i, i+1:]<dmin+dmin*1.01]]\n",
    "    #print(bubbles_a, bubbles_b, d[i, i+1:][d[i, i+1:]<1.46])\n",
    "    \n",
    "    b.set_forces(lj_force, bubbles_a = bubbles_a, bubbles_b = bubbles_b, force_params = np.array([10, dmin*2**(-1/6)]))\n",
    "    b.set_forces(lj_force, bubbles_a = bubbles_b, bubbles_b = bubbles_a, force_params = np.array([10, dmin*2**(-1/6)]))\n",
    "b.pos *= 0.9\n",
    "#b.vel_[0] += 5.0\n",
    "b.vel_[0] += 45*np.exp(-.1*np.sum(b.pos[1:]**2, axis = 0))\n",
    "b.view()"
   ]
  },
  {
   "cell_type": "code",
   "execution_count": null,
   "id": "81045a4e",
   "metadata": {},
   "outputs": [],
   "source": [
    "b.run(10000)"
   ]
  },
  {
   "cell_type": "code",
   "execution_count": null,
   "id": "5697c354",
   "metadata": {},
   "outputs": [],
   "source": [
    "#b.pos *= -1\n",
    "b.evince()"
   ]
  },
  {
   "cell_type": "code",
   "execution_count": null,
   "id": "9a701505",
   "metadata": {},
   "outputs": [],
   "source": [
    "fcc_custom"
   ]
  },
  {
   "cell_type": "code",
   "execution_count": null,
   "id": "81c5147b",
   "metadata": {},
   "outputs": [],
   "source": []
  }
 ],
 "metadata": {
  "kernelspec": {
   "display_name": "Python 3 (ipykernel)",
   "language": "python",
   "name": "python3"
  },
  "language_info": {
   "codemirror_mode": {
    "name": "ipython",
    "version": 3
   },
   "file_extension": ".py",
   "mimetype": "text/x-python",
   "name": "python",
   "nbconvert_exporter": "python",
   "pygments_lexer": "ipython3",
   "version": "3.10.6"
  }
 },
 "nbformat": 4,
 "nbformat_minor": 5
}
