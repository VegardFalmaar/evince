{
 "cells": [
  {
   "cell_type": "code",
   "execution_count": 1,
   "id": "ef974017",
   "metadata": {},
   "outputs": [
    {
     "data": {
      "application/vnd.jupyter.widget-view+json": {
       "model_id": "1039aa89e54d4ff0a0a83adf8d3294ae",
       "version_major": 2,
       "version_minor": 0
      },
      "text/plain": [
       "SpotlightView(aperture=0.0001, bg_color=[1.0, 1.0, 1.0], bonds=[[0, 1], [0, 4], [0, 33], [0, 34], [1, 2], [1, …"
      ]
     },
     "execution_count": 1,
     "metadata": {},
     "output_type": "execute_result"
    }
   ],
   "source": [
    "import bubblebox as bb\n",
    "from bubblebox.mdbox import smiles2graph, graph2bb\n",
    "\n",
    "s = \"\"\"O=Cc1ccc(O)c(OC)c1\"\"\" #vanillin\n",
    "s = \"\"\"C1C(C(OC1N)COP(=O)(O)OC2CC(OC2COP(=O)(O)OC3CC(OC3CO)N)N)O\"\"\" # Deoxyribonucleic acid (smiles string)\n",
    "#s= \"\"\"OC[C@@H](O1)[C@@H](O)[C@H](O)[C@@H](O)[C@H](O)1\"\"\"\n",
    "nodes, edges = smiles2graph(s) # extract nodes and edges from SMILES-string\n",
    "\n",
    "b = graph2bb(nodes, edges, relax = False) # Convert to a BubbleBox-system and relax (evolve, decrease temp)\n",
    "b.evince()"
   ]
  },
  {
   "cell_type": "code",
   "execution_count": 3,
   "id": "017fe481",
   "metadata": {},
   "outputs": [
    {
     "ename": "KeyboardInterrupt",
     "evalue": "",
     "output_type": "error",
     "traceback": [
      "\u001b[0;31m---------------------------------------------------------------------------\u001b[0m",
      "\u001b[0;31mKeyboardInterrupt\u001b[0m                         Traceback (most recent call last)",
      "Cell \u001b[0;32mIn [3], line 5\u001b[0m\n\u001b[1;32m      3\u001b[0m \u001b[38;5;28;01mfor\u001b[39;00m i \u001b[38;5;129;01min\u001b[39;00m \u001b[38;5;28mrange\u001b[39m(\u001b[38;5;241m10000\u001b[39m):\n\u001b[1;32m      4\u001b[0m     \u001b[38;5;28;01mfor\u001b[39;00m j \u001b[38;5;129;01min\u001b[39;00m \u001b[38;5;28mrange\u001b[39m(\u001b[38;5;241m3\u001b[39m):\n\u001b[0;32m----> 5\u001b[0m         \u001b[43mb\u001b[49m\u001b[38;5;241;43m.\u001b[39;49m\u001b[43madvance\u001b[49m\u001b[43m(\u001b[49m\u001b[43m)\u001b[49m\n\u001b[1;32m      6\u001b[0m     b\u001b[38;5;241m.\u001b[39mvel_ \u001b[38;5;241m*\u001b[39m\u001b[38;5;241m=\u001b[39m \u001b[38;5;241m.999\u001b[39m\n\u001b[1;32m      7\u001b[0m     b\u001b[38;5;241m.\u001b[39mupdate_view()\n",
      "File \u001b[0;32m/usr/local/lib/python3.10/site-packages/bubblebox/mdbox.py:864\u001b[0m, in \u001b[0;36mmdbox.advance_vverlet\u001b[0;34m(self)\u001b[0m\n\u001b[1;32m    860\u001b[0m \u001b[38;5;28mself\u001b[39m\u001b[38;5;241m.\u001b[39md_pos \u001b[38;5;241m=\u001b[39m \u001b[38;5;28mself\u001b[39m\u001b[38;5;241m.\u001b[39mvel_\u001b[38;5;241m*\u001b[39m\u001b[38;5;28mself\u001b[39m\u001b[38;5;241m.\u001b[39mdt \u001b[38;5;241m+\u001b[39m \u001b[38;5;241m.5\u001b[39m\u001b[38;5;241m*\u001b[39mFn\u001b[38;5;241m*\u001b[39m\u001b[38;5;28mself\u001b[39m\u001b[38;5;241m.\u001b[39mdt\u001b[38;5;241m*\u001b[39m\u001b[38;5;241m*\u001b[39m\u001b[38;5;241m2\u001b[39m\u001b[38;5;241m*\u001b[39m\u001b[38;5;28mself\u001b[39m\u001b[38;5;241m.\u001b[39mmasses_inv\n\u001b[1;32m    862\u001b[0m pos_new \u001b[38;5;241m=\u001b[39m \u001b[38;5;28mself\u001b[39m\u001b[38;5;241m.\u001b[39mpos \u001b[38;5;241m+\u001b[39m \u001b[38;5;28mself\u001b[39m\u001b[38;5;241m.\u001b[39md_pos\n\u001b[0;32m--> 864\u001b[0m forces_new \u001b[38;5;241m=\u001b[39m \u001b[38;5;28;43mself\u001b[39;49m\u001b[38;5;241;43m.\u001b[39;49m\u001b[43mforces\u001b[49m\u001b[43m(\u001b[49m\u001b[43mpos_new\u001b[49m\u001b[43m,\u001b[49m\u001b[43m \u001b[49m\u001b[38;5;28;43mself\u001b[39;49m\u001b[38;5;241;43m.\u001b[39;49m\u001b[43msize2\u001b[49m\u001b[43m,\u001b[49m\u001b[43m \u001b[49m\u001b[38;5;28;43mself\u001b[39;49m\u001b[38;5;241;43m.\u001b[39;49m\u001b[43minteractions\u001b[49m\u001b[43m,\u001b[49m\u001b[43m \u001b[49m\u001b[43mr2_cut\u001b[49m\u001b[43m \u001b[49m\u001b[38;5;241;43m=\u001b[39;49m\u001b[43m \u001b[49m\u001b[38;5;28;43mself\u001b[39;49m\u001b[38;5;241;43m.\u001b[39;49m\u001b[43mr2_cut\u001b[49m\u001b[43m,\u001b[49m\u001b[43m \u001b[49m\u001b[43mpair_list\u001b[49m\u001b[43m \u001b[49m\u001b[38;5;241;43m=\u001b[39;49m\u001b[43m \u001b[49m\u001b[38;5;28;43mself\u001b[39;49m\u001b[38;5;241;43m.\u001b[39;49m\u001b[43mpair_list\u001b[49m\u001b[43m)\u001b[49m\n\u001b[1;32m    866\u001b[0m \u001b[38;5;28mself\u001b[39m\u001b[38;5;241m.\u001b[39mvel_ \u001b[38;5;241m=\u001b[39m \u001b[38;5;28mself\u001b[39m\u001b[38;5;241m.\u001b[39mvel_ \u001b[38;5;241m+\u001b[39m \u001b[38;5;241m.5\u001b[39m\u001b[38;5;241m*\u001b[39m(forces_new \u001b[38;5;241m+\u001b[39m Fn)\u001b[38;5;241m*\u001b[39m\u001b[38;5;28mself\u001b[39m\u001b[38;5;241m.\u001b[39mdt\u001b[38;5;241m*\u001b[39m\u001b[38;5;28mself\u001b[39m\u001b[38;5;241m.\u001b[39mmasses_inv\n\u001b[1;32m    868\u001b[0m \u001b[38;5;28mself\u001b[39m\u001b[38;5;241m.\u001b[39mFn \u001b[38;5;241m=\u001b[39m forces_new\n",
      "File \u001b[0;32m/usr/local/lib/python3.10/site-packages/numba/core/serialize.py:29\u001b[0m, in \u001b[0;36m_numba_unpickle\u001b[0;34m(address, bytedata, hashed)\u001b[0m\n\u001b[1;32m     25\u001b[0m \u001b[38;5;66;03m# Keep unpickled object via `numba_unpickle` alive.\u001b[39;00m\n\u001b[1;32m     26\u001b[0m _unpickled_memo \u001b[38;5;241m=\u001b[39m {}\n\u001b[0;32m---> 29\u001b[0m \u001b[38;5;28;01mdef\u001b[39;00m \u001b[38;5;21m_numba_unpickle\u001b[39m(address, bytedata, hashed):\n\u001b[1;32m     30\u001b[0m     \u001b[38;5;124;03m\"\"\"Used by `numba_unpickle` from _helperlib.c\u001b[39;00m\n\u001b[1;32m     31\u001b[0m \n\u001b[1;32m     32\u001b[0m \u001b[38;5;124;03m    Parameters\u001b[39;00m\n\u001b[0;32m   (...)\u001b[0m\n\u001b[1;32m     41\u001b[0m \u001b[38;5;124;03m        unpickled object\u001b[39;00m\n\u001b[1;32m     42\u001b[0m \u001b[38;5;124;03m    \"\"\"\u001b[39;00m\n\u001b[1;32m     43\u001b[0m     key \u001b[38;5;241m=\u001b[39m (address, hashed)\n",
      "\u001b[0;31mKeyboardInterrupt\u001b[0m: "
     ]
    }
   ],
   "source": [
    "b.update_view()\n",
    "\n",
    "for i in range(10000):\n",
    "    for j in range(3):\n",
    "        b.advance()\n",
    "    b.vel_ *= .999\n",
    "    b.update_view()"
   ]
  },
  {
   "cell_type": "code",
   "execution_count": null,
   "id": "ba2e1b26",
   "metadata": {},
   "outputs": [],
   "source": [
    "b.evince() #focus = 25, sao = False, dof = True, max_blur = 0.01) # Visualize using Evince/SpotlightView"
   ]
  },
  {
   "cell_type": "code",
   "execution_count": null,
   "id": "c2cf83c1",
   "metadata": {},
   "outputs": [],
   "source": [
    "b.mview.save(\"dna_2.html\")"
   ]
  },
  {
   "cell_type": "code",
   "execution_count": null,
   "id": "ff9064fe",
   "metadata": {},
   "outputs": [],
   "source": [
    "s = \"\"\"C1C(C(OC1N)COP(=O)(O)OC2CC(OC2COP(=O)(O)OC3CC(OC3CO)N)N)O\"\"\" # Deoxyribonucleic acid (smiles string)\n",
    "\n",
    "import bubblebox as bb\n",
    "from bubblebox.mdbox import hook_force, coulomb_force\n",
    "from bubblebox.elements import get_atomic_number\n",
    "\n",
    "import numpy as np\n",
    "\n",
    "\n",
    "def smiles2graph(s):\n",
    "    try:\n",
    "        import pysmiles as ps\n",
    "    except:\n",
    "        print(\"Pysmiles not installed (use pip install, optional dependency)\")\n",
    "        return 0\n",
    "    S = ps.read_smiles(s, explicit_hydrogen=True)\n",
    "    nodes = [i[1] for i in S.nodes(data=\"element\")]\n",
    "    return nodes, S.edges\n",
    "\n",
    "\n",
    "\n",
    "def graph2bb(nodes, edges, relax = False, size = (50,50,50)):\n",
    "    \"\"\"\n",
    "    Convert connectivity graph to mdbox-system\n",
    "    (all atoms repel, connections imply harmonic interactions)\n",
    "    \"\"\"\n",
    "    #, zero_order_bonds=True, reinterpret_aromatic=True)\n",
    "\n",
    "    b = mdbox(n_bubbles = len(nodes), size = size)\n",
    "    #b = bb.showcase.repulsive_gas(len(nodes), size = size)\n",
    "\n",
    "    b.set_forces(coulomb_force, force_params = np.array([10.0,10.0]))\n",
    "    #b.set_forces(hook_force, force_params = np.array([-10,1.4]))\n",
    "\n",
    "    masses = []\n",
    "    for i in nodes:\n",
    "        masses.append(bb.elements.get_atomic_number(i))\n",
    "        \n",
    "\n",
    "    #print(masses)\n",
    "    b.set_masses(masses)\n",
    "    #b.set_masses(np.ones(len(S.nodes), dtype = float))\n",
    "\n",
    "\n",
    "    for i in edges:\n",
    "        b.set_forces(hook_force, bubbles_a = [i[0]], bubbles_b = [i[1]], force_params = np.array([50.0,8.4]))\n",
    "        b.set_forces(hook_force, bubbles_a = [i[1]], bubbles_b = [i[0]], force_params = np.array([50,8.4]))\n",
    "    \n",
    "    b.r2_cut = 100000\n",
    "    b.pos *= .25\n",
    "    \n",
    "    if relax:\n",
    "        for i in range(10000):\n",
    "            for j in range(3):\n",
    "                b.advance()\n",
    "            b.vel_ *= .999\n",
    "    return b\n",
    "\n",
    "\n",
    "\n",
    "s = \"\"\"CC1=C(C(=O)C[C@@H]1OC(=O)[C@@H]2[C@H](C2(C)C)/C=C(\\C)/C(=O)OC)C/C=C\\C=C \"\"\"\n",
    "s = \"\"\"O=Cc1ccc(O)c(OC)c1\"\"\"\n",
    "#s = \"\"\"OC[C@@H](O1)[C@@H](O)[C@H](O)[C@@H](O)[C@H](O)1\"\"\"\n",
    "#s = \"\"\"O1C=C[C@H]([C@H]1O2)c3c2cc(OC)c4c3OC(=O)C5=C4CCC(=O)5\"\"\"\n",
    "\n",
    "import bubblebox as bb\n",
    "s = \"\"\"C1C(C(OC1N)COP(=O)(O)OC2CC(OC2COP(=O)(O)OC3CC(OC3CO)N)N)O\"\"\" #Deoxyribonucleic acid\n",
    "\n",
    "\n",
    "nodes, edges = smiles2graph(s)\n",
    "\n",
    "\n",
    "b = graph2bb(nodes, edges, relax = True)\n",
    "b.evince(focus = 25, sao = True, dof = True)"
   ]
  },
  {
   "cell_type": "code",
   "execution_count": null,
   "id": "0fee8702",
   "metadata": {},
   "outputs": [],
   "source": [
    "#b.r2_cut = 10\n",
    "for i in range(100000):\n",
    "    #for j in range(3):\n",
    "    b.advance()\n",
    "    b.vel_ *= .999\n",
    "    b.update_view()"
   ]
  },
  {
   "cell_type": "code",
   "execution_count": null,
   "id": "8457df7f",
   "metadata": {},
   "outputs": [],
   "source": [
    "#b.pos *= 2\n",
    "b.evince(focus = 15, sao = False, dof = True)"
   ]
  },
  {
   "cell_type": "code",
   "execution_count": null,
   "id": "6e650943",
   "metadata": {},
   "outputs": [],
   "source": [
    "elmns = \"\"\"1\tH\tHydrogen\t1\n",
    "2\tHe\tHelium\t2\n",
    "3\tLi\tLithium\t3\n",
    "4\tBe\tBeryllium\t4\n",
    "5\tB\tBoron\t5\n",
    "6\tC\tCarbon\t6\n",
    "7\tN\tNitrogen\t7\n",
    "8\tO\tOxygen\t8\n",
    "9\tF\tFluorine\t9\n",
    "10\tNe\tNeon\t10\n",
    "11\tNa\tSodium\t11\n",
    "12\tMg\tMagnesium\t12\n",
    "13\tAl\tAluminium\t13\n",
    "14\tSi\tSilicon\t14\n",
    "15\tP\tPhosphorus\t15\n",
    "16\tS\tSulfur\t16\n",
    "17\tCl\tChlorine\t17\n",
    "18\tAr\tArgon\t18\n",
    "19\tK\tPotassium\t19\n",
    "20\tCa\tCalcium\t20\n",
    "21\tSc\tScandium\t21\n",
    "22\tTi\tTitanium\t22\n",
    "23\tV\tVanadium\t23\n",
    "24\tCr\tChromium\t24\n",
    "25\tMn\tManganese\t25\n",
    "26\tFe\tIron\t26\n",
    "27\tCo\tCobalt\t27\n",
    "28\tNi\tNickel\t28\n",
    "29\tCu\tCopper\t29\n",
    "30\tZn\tZinc\t30\n",
    "31\tGa\tGallium\t31\n",
    "32\tGe\tGermanium\t32\n",
    "33\tAs\tArsenic\t33\n",
    "34\tSe\tSelenium\t34\n",
    "35\tBr\tBromine\t35\n",
    "36\tKr\tKrypton\t36\n",
    "37\tRb\tRubidium\t37\n",
    "38\tSr\tStrontium\t38\n",
    "39\tY\tYttrium\t39\n",
    "40\tZr\tZirconium\t40\n",
    "41\tNb\tNiobium\t41\n",
    "42\tMo\tMolybdenum\t42\n",
    "43\tTc\tTechnetium\t43\n",
    "44\tRu\tRuthenium\t44\n",
    "45\tRh\tRhodium\t45\n",
    "46\tPd\tPalladium\t46\n",
    "47\tAg\tSilver\t47\n",
    "48\tCd\tCadmium\t48\n",
    "49\tIn\tIndium\t49\n",
    "50\tSn\tTin\t50\n",
    "51\tSb\tAntimony\t51\n",
    "52\tTe\tTellurium\t52\n",
    "53\tI\tIodine\t53\n",
    "54\tXe\tXenon\t54\n",
    "55\tCs\tCesium\t55\n",
    "56\tBa\tBarium\t56\n",
    "57\tLa\tLanthanum\t57\n",
    "58\tCe\tCerium\t58\n",
    "59\tPr\tPraseodymium\t59\n",
    "60\tNd\tNeodymium\t60\n",
    "61\tPm\tPromethium\t61\n",
    "62\tSm\tSamarium\t62\n",
    "63\tEu\tEuropium\t63\n",
    "64\tGd\tGadolinium\t64\n",
    "65\tTb\tTerbium\t65\n",
    "66\tDy\tDysprosium\t66\n",
    "67\tHo\tHolmium\t67\n",
    "68\tEr\tErbium\t68\n",
    "69\tTm\tThulium\t69\n",
    "70\tYb\tYtterbium\t70\n",
    "71\tLu\tLutetium\t71\n",
    "72\tHf\tHafnium\t72\n",
    "73\tTa\tTantalum\t73\n",
    "74\tW\tTungsten\t74\n",
    "75\tRe\tRhenium\t75\n",
    "76\tOs\tOsmium\t76\n",
    "77\tIr\tIridium\t77\n",
    "78\tPt\tPlatinum\t78\n",
    "79\tAu\tGold\t79\n",
    "80\tHg\tMercury\t80\n",
    "81\tTl\tThallium\t81\n",
    "82\tPb\tLead\t82\n",
    "83\tBi\tBismuth\t83\n",
    "84\tPo\tPolonium\t84\n",
    "85\tAt\tAstatine\t85\n",
    "86\tRn\tRadon\t86\n",
    "87\tFr\tFrancium\t87\n",
    "88\tRa\tRadium\t88\n",
    "89\tAc\tActinium\t89\n",
    "90\tTh\tThorium\t90\n",
    "91\tPa\tProtactinium\t91\n",
    "92\tU\tUranium\t92\n",
    "93\tNp\tNeptunium\t93\n",
    "94\tPu\tPlutonium\t94\n",
    "95\tAm\tAmericium\t95\n",
    "96\tCm\tCurium\t96\n",
    "97\tBk\tBerkelium\t97\n",
    "98\tCf\tCalifornium\t98\n",
    "99\tEs\tEinsteinium\t99\n",
    "100\tFm\tFermium\t100\n",
    "101\tMd\tMendelevium\t101\n",
    "102\tNo\tNobelium\t102\n",
    "103\tLr\tLawrencium\t103\n",
    "104\tRf\tRutherfordium\t104\n",
    "105\tDb\tDubnium\t105\n",
    "106\tSg\tSeaborgium\t106\n",
    "107\tBh\tBohrium\t107\n",
    "108\tHs\tHassium\t108\n",
    "109\tMt\tMeitnerium\t109\n",
    "110\tDs\tDarmstadtium\t110\n",
    "111\tRg\tRoentgenium\t111\n",
    "112\tCn\tCopernicium\t112\n",
    "113\tNh\tNihonium\t113\n",
    "114\tFl\tFlerovium\t114\n",
    "115\tMc\tMoscovium\t115\n",
    "116\tLv\tLivermorium\t116\n",
    "117\tTs\tTennessine\t117\n",
    "118\tOg\tOganesson\t118\"\"\"\n",
    "\n",
    "from ast import literal_eval\n",
    "elmns = [i.split(\"\\t\") for i in elmns.split(\"\\n\")]\n",
    "\n",
    "\n",
    "class element():\n",
    "    def __init__(self, name):\n",
    "        self.name = name\n",
    "    \n",
    "    \n",
    "elements = {}\n",
    "        \n",
    "\n",
    "for i in range(len(elmns)):\n",
    "    elements[elmns[i][1]] = {}\n",
    "    elements[elmns[i][1]][\"name\"] = elmns[i][2]\n",
    "    elements[elmns[i][1]][\"atomic_number\"] = literal_eval(elmns[i][0])\n",
    "    \n",
    "    \n",
    "elements[\"Ni\"][\"atomic_number\"]\n",
    "\n",
    "import json \n",
    "\n",
    "with open(\"elements.json\", \"w\") as write_file:\n",
    "    json.dump(elements, write_file, indent=4)\n",
    "    \n",
    "y = json.loads(open(\"elements.json\").read())"
   ]
  },
  {
   "cell_type": "code",
   "execution_count": null,
   "id": "460f4252",
   "metadata": {},
   "outputs": [],
   "source": []
  },
  {
   "cell_type": "code",
   "execution_count": null,
   "id": "46e17272",
   "metadata": {},
   "outputs": [],
   "source": [
    "y"
   ]
  },
  {
   "cell_type": "code",
   "execution_count": null,
   "id": "23f0e488",
   "metadata": {},
   "outputs": [],
   "source": []
  }
 ],
 "metadata": {
  "kernelspec": {
   "display_name": "Python 3 (ipykernel)",
   "language": "python",
   "name": "python3"
  },
  "language_info": {
   "codemirror_mode": {
    "name": "ipython",
    "version": 3
   },
   "file_extension": ".py",
   "mimetype": "text/x-python",
   "name": "python",
   "nbconvert_exporter": "python",
   "pygments_lexer": "ipython3",
   "version": "3.10.6"
  },
  "widgets": {
   "application/vnd.jupyter.widget-state+json": {
    "state": {
     "36e4501ca4644a4e86c9f2c9b221d0ad": {
      "model_module": "evince",
      "model_module_version": "^0.39.0",
      "model_name": "SpotlightModel",
      "state": {
       "_model_module_version": "^0.39.0",
       "_view_module_version": "^0.39.0",
       "additive": false,
       "aperture": 0.0001,
       "bg_color": [
        1,
        1,
        1
       ],
       "bonds": [
        [
         0,
         1
        ],
        [
         0,
         4
        ],
        [
         0,
         33
        ],
        [
         0,
         34
        ],
        [
         1,
         2
        ],
        [
         1,
         32
        ],
        [
         1,
         35
        ],
        [
         2,
         3
        ],
        [
         2,
         6
        ],
        [
         2,
         36
        ],
        [
         3,
         4
        ],
        [
         4,
         5
        ],
        [
         4,
         37
        ],
        [
         5,
         38
        ],
        [
         5,
         39
        ],
        [
         6,
         7
        ],
        [
         6,
         40
        ],
        [
         6,
         41
        ],
        [
         7,
         8
        ],
        [
         8,
         9
        ],
        [
         8,
         10
        ],
        [
         8,
         11
        ],
        [
         10,
         42
        ],
        [
         11,
         12
        ],
        [
         12,
         13
        ],
        [
         12,
         16
        ],
        [
         12,
         43
        ],
        [
         13,
         14
        ],
        [
         13,
         44
        ],
        [
         13,
         45
        ],
        [
         14,
         15
        ],
        [
         14,
         31
        ],
        [
         14,
         46
        ],
        [
         15,
         16
        ],
        [
         16,
         17
        ],
        [
         16,
         47
        ],
        [
         17,
         18
        ],
        [
         17,
         48
        ],
        [
         17,
         49
        ],
        [
         18,
         19
        ],
        [
         19,
         20
        ],
        [
         19,
         21
        ],
        [
         19,
         22
        ],
        [
         21,
         50
        ],
        [
         22,
         23
        ],
        [
         23,
         24
        ],
        [
         23,
         27
        ],
        [
         23,
         51
        ],
        [
         24,
         25
        ],
        [
         24,
         52
        ],
        [
         24,
         53
        ],
        [
         25,
         26
        ],
        [
         25,
         30
        ],
        [
         25,
         54
        ],
        [
         26,
         27
        ],
        [
         27,
         28
        ],
        [
         27,
         55
        ],
        [
         28,
         29
        ],
        [
         28,
         56
        ],
        [
         28,
         57
        ],
        [
         29,
         58
        ],
        [
         30,
         59
        ],
        [
         30,
         60
        ],
        [
         31,
         61
        ],
        [
         31,
         62
        ],
        [
         32,
         63
        ]
       ],
       "box": [
        50,
        50,
        50
       ],
       "colors": [
        [
         0.5647058823529412,
         0.5647058823529412,
         0.5647058823529412
        ],
        [
         0.5647058823529412,
         0.5647058823529412,
         0.5647058823529412
        ],
        [
         0.5647058823529412,
         0.5647058823529412,
         0.5647058823529412
        ],
        [
         1,
         0.05098039215686273,
         0.050980392156862786
        ],
        [
         0.5647058823529412,
         0.5647058823529412,
         0.5647058823529412
        ],
        [
         0.18823529411764706,
         0.3137254901960784,
         0.9725490196078431
        ],
        [
         0.5647058823529412,
         0.5647058823529412,
         0.5647058823529412
        ],
        [
         1,
         0.05098039215686273,
         0.050980392156862786
        ],
        [
         1,
         0.5019607843137255,
         0
        ],
        [
         1,
         0.05098039215686273,
         0.050980392156862786
        ],
        [
         1,
         0.05098039215686273,
         0.050980392156862786
        ],
        [
         1,
         0.05098039215686273,
         0.050980392156862786
        ],
        [
         0.5647058823529412,
         0.5647058823529412,
         0.5647058823529412
        ],
        [
         0.5647058823529412,
         0.5647058823529412,
         0.5647058823529412
        ],
        [
         0.5647058823529412,
         0.5647058823529412,
         0.5647058823529412
        ],
        [
         1,
         0.05098039215686273,
         0.050980392156862786
        ],
        [
         0.5647058823529412,
         0.5647058823529412,
         0.5647058823529412
        ],
        [
         0.5647058823529412,
         0.5647058823529412,
         0.5647058823529412
        ],
        [
         1,
         0.05098039215686273,
         0.050980392156862786
        ],
        [
         1,
         0.5019607843137255,
         0
        ],
        [
         1,
         0.05098039215686273,
         0.050980392156862786
        ],
        [
         1,
         0.05098039215686273,
         0.050980392156862786
        ],
        [
         1,
         0.05098039215686273,
         0.050980392156862786
        ],
        [
         0.5647058823529412,
         0.5647058823529412,
         0.5647058823529412
        ],
        [
         0.5647058823529412,
         0.5647058823529412,
         0.5647058823529412
        ],
        [
         0.5647058823529412,
         0.5647058823529412,
         0.5647058823529412
        ],
        [
         1,
         0.05098039215686273,
         0.050980392156862786
        ],
        [
         0.5647058823529412,
         0.5647058823529412,
         0.5647058823529412
        ],
        [
         0.5647058823529412,
         0.5647058823529412,
         0.5647058823529412
        ],
        [
         1,
         0.05098039215686273,
         0.050980392156862786
        ],
        [
         0.18823529411764706,
         0.3137254901960784,
         0.9725490196078431
        ],
        [
         0.18823529411764706,
         0.3137254901960784,
         0.9725490196078431
        ],
        [
         1,
         0.05098039215686273,
         0.050980392156862786
        ],
        [
         1,
         1,
         1
        ],
        [
         1,
         1,
         1
        ],
        [
         1,
         1,
         1
        ],
        [
         1,
         1,
         1
        ],
        [
         1,
         1,
         1
        ],
        [
         1,
         1,
         1
        ],
        [
         1,
         1,
         1
        ],
        [
         1,
         1,
         1
        ],
        [
         1,
         1,
         1
        ],
        [
         1,
         1,
         1
        ],
        [
         1,
         1,
         1
        ],
        [
         1,
         1,
         1
        ],
        [
         1,
         1,
         1
        ],
        [
         1,
         1,
         1
        ],
        [
         1,
         1,
         1
        ],
        [
         1,
         1,
         1
        ],
        [
         1,
         1,
         1
        ],
        [
         1,
         1,
         1
        ],
        [
         1,
         1,
         1
        ],
        [
         1,
         1,
         1
        ],
        [
         1,
         1,
         1
        ],
        [
         1,
         1,
         1
        ],
        [
         1,
         1,
         1
        ],
        [
         1,
         1,
         1
        ],
        [
         1,
         1,
         1
        ],
        [
         1,
         1,
         1
        ],
        [
         1,
         1,
         1
        ],
        [
         1,
         1,
         1
        ],
        [
         1,
         1,
         1
        ],
        [
         1,
         1,
         1
        ],
        [
         1,
         1,
         1
        ]
       ],
       "dof": true,
       "focus": 25,
       "fxaa": true,
       "init": true,
       "layout": "IPY_MODEL_b6ba91c6fd3c41fc81d2368de0f1d1ba",
       "masses": [
        6,
        6,
        6,
        8,
        6,
        7,
        6,
        8,
        15,
        8,
        8,
        8,
        6,
        6,
        6,
        8,
        6,
        6,
        8,
        15,
        8,
        8,
        8,
        6,
        6,
        6,
        8,
        6,
        6,
        8,
        7,
        7,
        8,
        1,
        1,
        1,
        1,
        1,
        1,
        1,
        1,
        1,
        1,
        1,
        1,
        1,
        1,
        1,
        1,
        1,
        1,
        1,
        1,
        1,
        1,
        1,
        1,
        1,
        1,
        1,
        1,
        1,
        1,
        1
       ],
       "max_blur": 0.005,
       "pos": [
        [
         -10.420754489544297,
         5.504334842067852,
         5.268688517117954
        ],
        [
         -9.200638541409027,
         3.8883768925908075,
         7.56673087391332
        ],
        [
         -9.701565560158405,
         1.2476497179040589,
         6.4464596727630425
        ],
        [
         -10.698845702205551,
         3.1087536850366333,
         4.437705614399316
        ],
        [
         -13.05623075361345,
         4.817635291531343,
         4.510007943932164
        ],
        [
         -14.406639676948453,
         2.8658162962325995,
         3.22878043704755
        ],
        [
         -7.433465500942395,
         0.057048252773193746,
         5.390108516392914
        ],
        [
         -4.949146852166747,
         1.0140636032360957,
         4.735231226204471
        ],
        [
         -2.5560147962445323,
         -0.35773497500617296,
         4.135660833766139
        ],
        [
         -3.1978619862870286,
         1.8493833843815823,
         2.5743233603640356
        ],
        [
         -0.12740809538290862,
         -1.928208923543382,
         4.93276409776948
        ],
        [
         -1.1526172532269636,
         -0.36721202609622944,
         1.546536656627907
        ],
        [
         0.024137294800794393,
         -0.27564994126252224,
         -1.1985876368578312
        ],
        [
         0.19740667044335233,
         2.359580670939381,
         -2.500102688928807
        ],
        [
         1.9565570528010392,
         1.7377336998747697,
         -4.856691596647662
        ],
        [
         1.0658037555158553,
         -1.116771680448619,
         -4.687923372990252
        ],
        [
         0.3548531666219581,
         -2.822839166635197,
         -2.5066321746828253
        ],
        [
         1.5132090577432509,
         -5.358055972439256,
         -3.642389472588657
        ],
        [
         4.244586424434777,
         -5.908711582138555,
         -4.007519413637298
        ],
        [
         5.692407890938022,
         -7.97893030378499,
         -2.8109252793935373
        ],
        [
         8.019663693789463,
         -7.606927062617968,
         -4.605276041771575
        ],
        [
         8.03407368727022,
         -7.598506645693504,
         -1.3960712946873648
        ],
        [
         5.8203976273506175,
         -10.858198757596746,
         -3.061471982508426
        ],
        [
         5.7908922723145135,
         -13.651728681518211,
         -2.294533287111846
        ],
        [
         3.900658672435284,
         -15.378902585504354,
         -0.5953216089045407
        ],
        [
         3.3262029084855103,
         -18.347141972567506,
         0.05256217378599496
        ],
        [
         5.242832141385361,
         -18.224378404159967,
         -2.0366463911257724
        ],
        [
         6.387138535771145,
         -16.136468398931147,
         -3.670691157496539
        ],
        [
         7.145445331239158,
         -17.22308017618422,
         -6.387589283035565
        ],
        [
         7.048875851973919,
         -16.611669963028092,
         -9.158516248318863
        ],
        [
         1.2021716273478187,
         -18.360440787192335,
         2.0331584920917543
        ],
        [
         1.7596948127538996,
         2.585176093628628,
         -7.714272081432907
        ],
        [
         -10.0593779319494,
         5.539534046185742,
         9.837757934004863
        ],
        [
         -12.022569405758302,
         5.602798023440435,
         2.9576505679291265
        ],
        [
         -8.860599046089238,
         7.350931093988221,
         3.4126661101902953
        ],
        [
         -11.312001750759224,
         3.9987417031576533,
         9.499944524481402
        ],
        [
         -10.239971524661854,
         -1.4333676045252584,
         7.0955488541959335
        ],
        [
         -12.65007159668848,
         1.6195422160702633,
         4.313102947440525
        ],
        [
         -13.123720082352923,
         4.4720366985495374,
         1.2880830111748893
        ],
        [
         -16.443285679487772,
         2.76797941637746,
         4.684094943495652
        ],
        [
         -4.921355100618018,
         -0.7518237730756537,
         5.912614225662264
        ],
        [
         -8.377463502186341,
         -1.556059781867127,
         2.9917730662696105
        ],
        [
         2.116213691657986,
         -3.1138240766218135,
         6.078957599545459
        ],
        [
         2.500582716185008,
         0.4763071857411025,
         0.26755366136055053
        ],
        [
         -2.6449566079838576,
         1.870296276119292,
         -3.476370946128765
        ],
        [
         1.3510252150593107,
         4.272713845089892,
         -0.5619295691318111
        ],
        [
         4.32962557957487,
         0.2818343559387621,
         -4.829046978019341
        ],
        [
         2.0788633990050203,
         -3.0615054799269914,
         -4.914785403650172
        ],
        [
         0.07979116787351527,
         -6.389827566030479,
         -6.121577388978295
        ],
        [
         -1.3578858370309277,
         -5.144550172631217,
         -2.652301708940913
        ],
        [
         8.039570771873352,
         -6.165788571671212,
         1.220947691665542
        ],
        [
         7.609355375559968,
         -14.24928116139836,
         -0.09388451464782309
        ],
        [
         5.44496604590951,
         -14.639405590723818,
         1.8841174132543195
        ],
        [
         1.2386415877644532,
         -15.684262762280479,
         -1.8322490151513076
        ],
        [
         4.9924572240978975,
         -19.06239134964803,
         2.2465122334350203
        ],
        [
         9.282037317695634,
         -15.676193066788471,
         -3.7911882523631837
        ],
        [
         5.832055500982297,
         -19.241754217389722,
         -7.909229710612853
        ],
        [
         9.466525988927396,
         -19.214051510294905,
         -6.487054204523278
        ],
        [
         7.741010566467977,
         -15.276476777269432,
         -11.81201789775678
        ],
        [
         1.218651531039226,
         -17.862738147185087,
         4.768020531556714
        ],
        [
         -0.49103260295752565,
         -20.555939911718934,
         3.0682791263680103
        ],
        [
         1.6459062775898277,
         4.306030107386227,
         -9.863180234918026
        ],
        [
         3.3043349351957456,
         4.773073942781926,
         -6.577209362243048
        ],
        [
         -8.040065504189332,
         3.6129223956244267,
         10.398191524800474
        ]
       ],
       "radius": [
        1.4166666666666667,
        1.4166666666666667,
        1.4166666666666667,
        1.2666666666666666,
        1.4166666666666667,
        1.2916666666666667,
        1.4166666666666667,
        1.2666666666666666,
        1.5,
        1.2666666666666666,
        1.2666666666666666,
        1.2666666666666666,
        1.4166666666666667,
        1.4166666666666667,
        1.4166666666666667,
        1.2666666666666666,
        1.4166666666666667,
        1.4166666666666667,
        1.2666666666666666,
        1.5,
        1.2666666666666666,
        1.2666666666666666,
        1.2666666666666666,
        1.4166666666666667,
        1.4166666666666667,
        1.4166666666666667,
        1.2666666666666666,
        1.4166666666666667,
        1.4166666666666667,
        1.2666666666666666,
        1.2916666666666667,
        1.2916666666666667,
        1.2666666666666666,
        1,
        1,
        1,
        1,
        1,
        1,
        1,
        1,
        1,
        1,
        1,
        1,
        1,
        1,
        1,
        1,
        1,
        1,
        1,
        1,
        1,
        1,
        1,
        1,
        1,
        1,
        1,
        1,
        1,
        1,
        1
       ],
       "sao": true,
       "saoBias": 0.1,
       "saoBlur": false,
       "saoBlurDepthCutoff": 0.05,
       "saoBlurRadius": 50,
       "saoBlurStdDev": 1,
       "saoIntensity": 0.1,
       "saoKernelRadius": 10,
       "saoMinResolution": 0.5,
       "saoScale": 100,
       "tabbable": null,
       "tooltip": null,
       "window_scale_height": 0.5,
       "window_scale_width": 0.75
      }
     },
     "436d4f62307a43efac343a8ebdebe803": {
      "model_module": "@jupyter-widgets/base",
      "model_module_version": "2.0.0",
      "model_name": "LayoutModel",
      "state": {
       "_model_module_version": "2.0.0",
       "_view_module_version": "2.0.0",
       "border_bottom": null,
       "border_left": null,
       "border_right": null,
       "border_top": null
      }
     },
     "63f11e3942784c0b9f8f9db51c551c66": {
      "model_module": "evince",
      "model_module_version": "^0.39.0",
      "model_name": "SpotlightModel",
      "state": {
       "_model_module_version": "^0.39.0",
       "_view_module_version": "^0.39.0",
       "additive": false,
       "aperture": 0.0001,
       "bg_color": [
        1,
        1,
        1
       ],
       "bonds": [
        [
         0,
         1
        ],
        [
         0,
         4
        ],
        [
         0,
         33
        ],
        [
         0,
         34
        ],
        [
         1,
         2
        ],
        [
         1,
         32
        ],
        [
         1,
         35
        ],
        [
         2,
         3
        ],
        [
         2,
         6
        ],
        [
         2,
         36
        ],
        [
         3,
         4
        ],
        [
         4,
         5
        ],
        [
         4,
         37
        ],
        [
         5,
         38
        ],
        [
         5,
         39
        ],
        [
         6,
         7
        ],
        [
         6,
         40
        ],
        [
         6,
         41
        ],
        [
         7,
         8
        ],
        [
         8,
         9
        ],
        [
         8,
         10
        ],
        [
         8,
         11
        ],
        [
         10,
         42
        ],
        [
         11,
         12
        ],
        [
         12,
         13
        ],
        [
         12,
         16
        ],
        [
         12,
         43
        ],
        [
         13,
         14
        ],
        [
         13,
         44
        ],
        [
         13,
         45
        ],
        [
         14,
         15
        ],
        [
         14,
         31
        ],
        [
         14,
         46
        ],
        [
         15,
         16
        ],
        [
         16,
         17
        ],
        [
         16,
         47
        ],
        [
         17,
         18
        ],
        [
         17,
         48
        ],
        [
         17,
         49
        ],
        [
         18,
         19
        ],
        [
         19,
         20
        ],
        [
         19,
         21
        ],
        [
         19,
         22
        ],
        [
         21,
         50
        ],
        [
         22,
         23
        ],
        [
         23,
         24
        ],
        [
         23,
         27
        ],
        [
         23,
         51
        ],
        [
         24,
         25
        ],
        [
         24,
         52
        ],
        [
         24,
         53
        ],
        [
         25,
         26
        ],
        [
         25,
         30
        ],
        [
         25,
         54
        ],
        [
         26,
         27
        ],
        [
         27,
         28
        ],
        [
         27,
         55
        ],
        [
         28,
         29
        ],
        [
         28,
         56
        ],
        [
         28,
         57
        ],
        [
         29,
         58
        ],
        [
         30,
         59
        ],
        [
         30,
         60
        ],
        [
         31,
         61
        ],
        [
         31,
         62
        ],
        [
         32,
         63
        ]
       ],
       "box": [
        50,
        50,
        50
       ],
       "colors": [
        [
         0.5647058823529412,
         0.5647058823529412,
         0.5647058823529412
        ],
        [
         0.5647058823529412,
         0.5647058823529412,
         0.5647058823529412
        ],
        [
         0.5647058823529412,
         0.5647058823529412,
         0.5647058823529412
        ],
        [
         1,
         0.05098039215686273,
         0.050980392156862786
        ],
        [
         0.5647058823529412,
         0.5647058823529412,
         0.5647058823529412
        ],
        [
         0.18823529411764706,
         0.3137254901960784,
         0.9725490196078431
        ],
        [
         0.5647058823529412,
         0.5647058823529412,
         0.5647058823529412
        ],
        [
         1,
         0.05098039215686273,
         0.050980392156862786
        ],
        [
         1,
         0.5019607843137255,
         0
        ],
        [
         1,
         0.05098039215686273,
         0.050980392156862786
        ],
        [
         1,
         0.05098039215686273,
         0.050980392156862786
        ],
        [
         1,
         0.05098039215686273,
         0.050980392156862786
        ],
        [
         0.5647058823529412,
         0.5647058823529412,
         0.5647058823529412
        ],
        [
         0.5647058823529412,
         0.5647058823529412,
         0.5647058823529412
        ],
        [
         0.5647058823529412,
         0.5647058823529412,
         0.5647058823529412
        ],
        [
         1,
         0.05098039215686273,
         0.050980392156862786
        ],
        [
         0.5647058823529412,
         0.5647058823529412,
         0.5647058823529412
        ],
        [
         0.5647058823529412,
         0.5647058823529412,
         0.5647058823529412
        ],
        [
         1,
         0.05098039215686273,
         0.050980392156862786
        ],
        [
         1,
         0.5019607843137255,
         0
        ],
        [
         1,
         0.05098039215686273,
         0.050980392156862786
        ],
        [
         1,
         0.05098039215686273,
         0.050980392156862786
        ],
        [
         1,
         0.05098039215686273,
         0.050980392156862786
        ],
        [
         0.5647058823529412,
         0.5647058823529412,
         0.5647058823529412
        ],
        [
         0.5647058823529412,
         0.5647058823529412,
         0.5647058823529412
        ],
        [
         0.5647058823529412,
         0.5647058823529412,
         0.5647058823529412
        ],
        [
         1,
         0.05098039215686273,
         0.050980392156862786
        ],
        [
         0.5647058823529412,
         0.5647058823529412,
         0.5647058823529412
        ],
        [
         0.5647058823529412,
         0.5647058823529412,
         0.5647058823529412
        ],
        [
         1,
         0.05098039215686273,
         0.050980392156862786
        ],
        [
         0.18823529411764706,
         0.3137254901960784,
         0.9725490196078431
        ],
        [
         0.18823529411764706,
         0.3137254901960784,
         0.9725490196078431
        ],
        [
         1,
         0.05098039215686273,
         0.050980392156862786
        ],
        [
         1,
         1,
         1
        ],
        [
         1,
         1,
         1
        ],
        [
         1,
         1,
         1
        ],
        [
         1,
         1,
         1
        ],
        [
         1,
         1,
         1
        ],
        [
         1,
         1,
         1
        ],
        [
         1,
         1,
         1
        ],
        [
         1,
         1,
         1
        ],
        [
         1,
         1,
         1
        ],
        [
         1,
         1,
         1
        ],
        [
         1,
         1,
         1
        ],
        [
         1,
         1,
         1
        ],
        [
         1,
         1,
         1
        ],
        [
         1,
         1,
         1
        ],
        [
         1,
         1,
         1
        ],
        [
         1,
         1,
         1
        ],
        [
         1,
         1,
         1
        ],
        [
         1,
         1,
         1
        ],
        [
         1,
         1,
         1
        ],
        [
         1,
         1,
         1
        ],
        [
         1,
         1,
         1
        ],
        [
         1,
         1,
         1
        ],
        [
         1,
         1,
         1
        ],
        [
         1,
         1,
         1
        ],
        [
         1,
         1,
         1
        ],
        [
         1,
         1,
         1
        ],
        [
         1,
         1,
         1
        ],
        [
         1,
         1,
         1
        ],
        [
         1,
         1,
         1
        ],
        [
         1,
         1,
         1
        ],
        [
         1,
         1,
         1
        ]
       ],
       "dof": true,
       "focus": 25,
       "fxaa": true,
       "init": true,
       "layout": "IPY_MODEL_436d4f62307a43efac343a8ebdebe803",
       "masses": [
        6,
        6,
        6,
        8,
        6,
        7,
        6,
        8,
        15,
        8,
        8,
        8,
        6,
        6,
        6,
        8,
        6,
        6,
        8,
        15,
        8,
        8,
        8,
        6,
        6,
        6,
        8,
        6,
        6,
        8,
        7,
        7,
        8,
        1,
        1,
        1,
        1,
        1,
        1,
        1,
        1,
        1,
        1,
        1,
        1,
        1,
        1,
        1,
        1,
        1,
        1,
        1,
        1,
        1,
        1,
        1,
        1,
        1,
        1,
        1,
        1,
        1,
        1,
        1
       ],
       "max_blur": 0.005,
       "pos": [
        [
         -10.420754489544297,
         5.504334842067852,
         5.268688517117954
        ],
        [
         -9.200638541409027,
         3.8883768925908075,
         7.56673087391332
        ],
        [
         -9.701565560158405,
         1.2476497179040589,
         6.4464596727630425
        ],
        [
         -10.698845702205551,
         3.1087536850366333,
         4.437705614399316
        ],
        [
         -13.05623075361345,
         4.817635291531343,
         4.510007943932164
        ],
        [
         -14.406639676948453,
         2.8658162962325995,
         3.22878043704755
        ],
        [
         -7.433465500942395,
         0.057048252773193746,
         5.390108516392914
        ],
        [
         -4.949146852166747,
         1.0140636032360957,
         4.735231226204471
        ],
        [
         -2.5560147962445323,
         -0.35773497500617296,
         4.135660833766139
        ],
        [
         -3.1978619862870286,
         1.8493833843815823,
         2.5743233603640356
        ],
        [
         -0.12740809538290862,
         -1.928208923543382,
         4.93276409776948
        ],
        [
         -1.1526172532269636,
         -0.36721202609622944,
         1.546536656627907
        ],
        [
         0.024137294800794393,
         -0.27564994126252224,
         -1.1985876368578312
        ],
        [
         0.19740667044335233,
         2.359580670939381,
         -2.500102688928807
        ],
        [
         1.9565570528010392,
         1.7377336998747697,
         -4.856691596647662
        ],
        [
         1.0658037555158553,
         -1.116771680448619,
         -4.687923372990252
        ],
        [
         0.3548531666219581,
         -2.822839166635197,
         -2.5066321746828253
        ],
        [
         1.5132090577432509,
         -5.358055972439256,
         -3.642389472588657
        ],
        [
         4.244586424434777,
         -5.908711582138555,
         -4.007519413637298
        ],
        [
         5.692407890938022,
         -7.97893030378499,
         -2.8109252793935373
        ],
        [
         8.019663693789463,
         -7.606927062617968,
         -4.605276041771575
        ],
        [
         8.03407368727022,
         -7.598506645693504,
         -1.3960712946873648
        ],
        [
         5.8203976273506175,
         -10.858198757596746,
         -3.061471982508426
        ],
        [
         5.7908922723145135,
         -13.651728681518211,
         -2.294533287111846
        ],
        [
         3.900658672435284,
         -15.378902585504354,
         -0.5953216089045407
        ],
        [
         3.3262029084855103,
         -18.347141972567506,
         0.05256217378599496
        ],
        [
         5.242832141385361,
         -18.224378404159967,
         -2.0366463911257724
        ],
        [
         6.387138535771145,
         -16.136468398931147,
         -3.670691157496539
        ],
        [
         7.145445331239158,
         -17.22308017618422,
         -6.387589283035565
        ],
        [
         7.048875851973919,
         -16.611669963028092,
         -9.158516248318863
        ],
        [
         1.2021716273478187,
         -18.360440787192335,
         2.0331584920917543
        ],
        [
         1.7596948127538996,
         2.585176093628628,
         -7.714272081432907
        ],
        [
         -10.0593779319494,
         5.539534046185742,
         9.837757934004863
        ],
        [
         -12.022569405758302,
         5.602798023440435,
         2.9576505679291265
        ],
        [
         -8.860599046089238,
         7.350931093988221,
         3.4126661101902953
        ],
        [
         -11.312001750759224,
         3.9987417031576533,
         9.499944524481402
        ],
        [
         -10.239971524661854,
         -1.4333676045252584,
         7.0955488541959335
        ],
        [
         -12.65007159668848,
         1.6195422160702633,
         4.313102947440525
        ],
        [
         -13.123720082352923,
         4.4720366985495374,
         1.2880830111748893
        ],
        [
         -16.443285679487772,
         2.76797941637746,
         4.684094943495652
        ],
        [
         -4.921355100618018,
         -0.7518237730756537,
         5.912614225662264
        ],
        [
         -8.377463502186341,
         -1.556059781867127,
         2.9917730662696105
        ],
        [
         2.116213691657986,
         -3.1138240766218135,
         6.078957599545459
        ],
        [
         2.500582716185008,
         0.4763071857411025,
         0.26755366136055053
        ],
        [
         -2.6449566079838576,
         1.870296276119292,
         -3.476370946128765
        ],
        [
         1.3510252150593107,
         4.272713845089892,
         -0.5619295691318111
        ],
        [
         4.32962557957487,
         0.2818343559387621,
         -4.829046978019341
        ],
        [
         2.0788633990050203,
         -3.0615054799269914,
         -4.914785403650172
        ],
        [
         0.07979116787351527,
         -6.389827566030479,
         -6.121577388978295
        ],
        [
         -1.3578858370309277,
         -5.144550172631217,
         -2.652301708940913
        ],
        [
         8.039570771873352,
         -6.165788571671212,
         1.220947691665542
        ],
        [
         7.609355375559968,
         -14.24928116139836,
         -0.09388451464782309
        ],
        [
         5.44496604590951,
         -14.639405590723818,
         1.8841174132543195
        ],
        [
         1.2386415877644532,
         -15.684262762280479,
         -1.8322490151513076
        ],
        [
         4.9924572240978975,
         -19.06239134964803,
         2.2465122334350203
        ],
        [
         9.282037317695634,
         -15.676193066788471,
         -3.7911882523631837
        ],
        [
         5.832055500982297,
         -19.241754217389722,
         -7.909229710612853
        ],
        [
         9.466525988927396,
         -19.214051510294905,
         -6.487054204523278
        ],
        [
         7.741010566467977,
         -15.276476777269432,
         -11.81201789775678
        ],
        [
         1.218651531039226,
         -17.862738147185087,
         4.768020531556714
        ],
        [
         -0.49103260295752565,
         -20.555939911718934,
         3.0682791263680103
        ],
        [
         1.6459062775898277,
         4.306030107386227,
         -9.863180234918026
        ],
        [
         3.3043349351957456,
         4.773073942781926,
         -6.577209362243048
        ],
        [
         -8.040065504189332,
         3.6129223956244267,
         10.398191524800474
        ]
       ],
       "radius": [
        1.4166666666666667,
        1.4166666666666667,
        1.4166666666666667,
        1.2666666666666666,
        1.4166666666666667,
        1.2916666666666667,
        1.4166666666666667,
        1.2666666666666666,
        1.5,
        1.2666666666666666,
        1.2666666666666666,
        1.2666666666666666,
        1.4166666666666667,
        1.4166666666666667,
        1.4166666666666667,
        1.2666666666666666,
        1.4166666666666667,
        1.4166666666666667,
        1.2666666666666666,
        1.5,
        1.2666666666666666,
        1.2666666666666666,
        1.2666666666666666,
        1.4166666666666667,
        1.4166666666666667,
        1.4166666666666667,
        1.2666666666666666,
        1.4166666666666667,
        1.4166666666666667,
        1.2666666666666666,
        1.2916666666666667,
        1.2916666666666667,
        1.2666666666666666,
        1,
        1,
        1,
        1,
        1,
        1,
        1,
        1,
        1,
        1,
        1,
        1,
        1,
        1,
        1,
        1,
        1,
        1,
        1,
        1,
        1,
        1,
        1,
        1,
        1,
        1,
        1,
        1,
        1,
        1,
        1
       ],
       "sao": false,
       "saoBias": 0.1,
       "saoBlur": false,
       "saoBlurDepthCutoff": 0.05,
       "saoBlurRadius": 50,
       "saoBlurStdDev": 1,
       "saoIntensity": 0.1,
       "saoKernelRadius": 10,
       "saoMinResolution": 0.5,
       "saoScale": 100,
       "tabbable": null,
       "tooltip": null,
       "window_scale_height": 0.5,
       "window_scale_width": 0.75
      }
     },
     "b6ba91c6fd3c41fc81d2368de0f1d1ba": {
      "model_module": "@jupyter-widgets/base",
      "model_module_version": "2.0.0",
      "model_name": "LayoutModel",
      "state": {
       "_model_module_version": "2.0.0",
       "_view_module_version": "2.0.0",
       "border_bottom": null,
       "border_left": null,
       "border_right": null,
       "border_top": null
      }
     }
    },
    "version_major": 2,
    "version_minor": 0
   }
  }
 },
 "nbformat": 4,
 "nbformat_minor": 5
}
