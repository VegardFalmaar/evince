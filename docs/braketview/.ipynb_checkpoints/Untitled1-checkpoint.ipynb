{
 "cells": [
  {
   "cell_type": "code",
   "execution_count": 1,
   "id": "45397df7",
   "metadata": {},
   "outputs": [],
   "source": [
    "## Generating GTOs\n",
    "\n",
    "import sympy as sp\n",
    "import numpy as np\n",
    "import braketlab as bk\n",
    "import braketlab.solid_harmonics as sh\n",
    "x,y,z = bk.get_default_variables(0,3)"
   ]
  },
  {
   "cell_type": "code",
   "execution_count": 130,
   "id": "93c9011b",
   "metadata": {},
   "outputs": [],
   "source": [
    "\"\"\"\n",
    "Real solid harmonic Gaussian basis function,\n",
    "as presented in chapter 6 of Helgaker, T., Jorgensen, P., & Olsen, J. (2014). Molecular electronic-structure theory. John Wiley & Sons.\n",
    "\"\"\"\n",
    "\n",
    "def get_default_variables(p, n = 3):\n",
    "    variables = []\n",
    "    for i in range(n):\n",
    "        variables.append(sp.Symbol(\"x_{%i; %i}\" % (p, i)))\n",
    "    return variables\n",
    "\n",
    "def binom(a,b):\n",
    "    #print(a,b)\n",
    "    return np.math.factorial(int(a))/(np.math.factorial(int(b))*np.math.factorial(int(a-b)))\n",
    "\n",
    "def V(m):\n",
    "    \"\"\"\n",
    "    eq. 6.4.50, pink bible (*)\n",
    "    \"\"\"\n",
    "    vm = 0\n",
    "    if m<0:\n",
    "        vm = .5\n",
    "    return vm\n",
    "\n",
    "def c(l,m,t,u,v):\n",
    "    \"\"\"\n",
    "    eq. 6.4.48, pink bible (*)\n",
    "    \"\"\"\n",
    "    return (-1)**(t + v - V(m)) * (.25)**t * binom(l,t) * binom(l-t, abs(m)+t) * binom(t,u) * binom( abs(m), 2*v )\n",
    "\n",
    "def N(l,m):\n",
    "    \"\"\"\n",
    "    eq. 6.4.49, pink bible (*)\n",
    "    \"\"\"\n",
    "    return 1/(2**abs(m) * np.math.factorial(l) ) * np.sqrt( 2* np.math.factorial(l + abs(m))*np.math.factorial(l - abs(m)) * (2**(m==0))**-1)\n",
    "\n",
    "def get_Slm(l,m):\n",
    "    \"\"\"\n",
    "    eq. 6.4.47, pink bible (*)\n",
    "    \"\"\"\n",
    "    slm = 0\n",
    "    for t in range(int(np.floor((l-abs(m))/2))+1):\n",
    "        for u in range(t +1 ):\n",
    "            vm = V(m)\n",
    "            for v in np.arange(vm, np.floor(abs(m)/2 - vm) + vm + 1) :\n",
    "                slm += c(l,m,t,u,v)*x**(2*t + abs(m) - 2*(u+v)) * y**(2*(u+v)) * z**(l-2*t-abs(m))\n",
    "    return slm\n",
    "\n",
    "def get_gto(a,l,m):\n",
    "    \"\"\"\n",
    "    eq. 6.6.15, pink bible (*)\n",
    "    \"\"\"\n",
    "    return get_Slm(l,m) * sp.exp(-alpha*(x**2 + y**2 + z**2) )\n",
    "    \n",
    "    \n",
    "\n",
    "def get_Npi(a_i, l):\n",
    "    \"\"\"\n",
    "    Returns the normalization prefactor for S_lm(a_i, r)\n",
    "    a_i = exponent\n",
    "    l = angular quantum number\n",
    "    \"\"\"\n",
    "    return (2.0*np.pi)**(-.75) * (4.0*a_i)**(0.75 + l/2.0)  * float(dobfac(2*l - 1))**-.5\n",
    "\n",
    "\n",
    "def dobfac(n):\n",
    "    \"\"\"\n",
    "    'double' factorial function\n",
    "    eq. 6.5.10 in pink bible (*)\n",
    "    \"\"\"\n",
    "    if n>=0 and n%2 == 0:\n",
    "        return np.prod(np.arange(0, n, 2 ) + 2)\n",
    "    else:\n",
    "        if n%2==1:\n",
    "            return np.prod(np.arange(0, n, 2 ) + 1)\n"
   ]
  },
  {
   "cell_type": "code",
   "execution_count": 131,
   "id": "1d8591c2",
   "metadata": {},
   "outputs": [
    {
     "name": "stdout",
     "output_type": "stream",
     "text": [
      "0 0 1.0008707886563268\n",
      "1 -1 1.0000050258460291\n",
      "1 0 1.0028092684359704\n",
      "1 1 1.0000831328216087\n",
      "2 -2 0.9974235730728359\n",
      "2 -1 0.9976440572328193\n",
      "2 0 0.9977127387283293\n",
      "2 1 1.002023551691136\n",
      "2 2 0.9987977641327896\n",
      "3 -3 1.0008280257944542\n",
      "3 -2 0.9999445428029373\n",
      "3 -1 0.9986339918628081\n",
      "3 0 1.0002797891005757\n",
      "3 1 1.000126563553496\n",
      "3 2 1.0013099948052298\n",
      "3 3 0.9992012958409366\n",
      "4 -4 0.9995829597941018\n",
      "4 -3 1.0016333558820736\n",
      "4 -2 0.9985204358789519\n",
      "4 -1 1.000073399001756\n",
      "4 0 1.000430910156588\n",
      "4 1 0.9978216048432657\n",
      "4 2 1.0001033796639185\n",
      "4 3 1.001803908719737\n",
      "4 4 1.0000744146007179\n",
      "5 -5 1.002144571477245\n",
      "5 -4 0.9990890656663296\n",
      "5 -3 0.9985278253166416\n",
      "5 -2 1.0010876290304898\n",
      "5 -1 0.9982684088831646\n",
      "5 0 0.9980808187851411\n",
      "5 1 0.9990124623669119\n",
      "5 2 1.0018025793576086\n",
      "5 3 0.998905058112531\n",
      "5 4 1.0016132268658524\n",
      "5 5 1.0018050781492243\n",
      "6 -6 0.996504784186117\n",
      "6 -5 1.0030103075108099\n",
      "6 -4 1.000791378818057\n",
      "6 -3 0.9994965442596146\n",
      "6 -2 1.0004818924158827\n",
      "6 -1 1.0023575250581063\n",
      "6 0 0.9996226819380699\n",
      "6 1 1.0010405115630139\n",
      "6 2 1.0007805514078105\n",
      "6 3 0.9956537797212406\n",
      "6 4 0.9997470507727799\n",
      "6 5 1.0044122558564648\n",
      "6 6 0.9989204467865284\n",
      "7 -7 1.0020584476975822\n",
      "7 -6 0.9999774033185828\n",
      "7 -5 0.989627328390057\n",
      "7 -4 1.0022834889977155\n",
      "7 -3 1.0030596716455755\n",
      "7 -2 1.0053972622769134\n",
      "7 -1 0.9961306572904652\n",
      "7 0 0.9937235750613901\n",
      "7 1 1.00112763659702\n",
      "7 2 0.9996916662768404\n",
      "7 3 0.98845884234821\n",
      "7 4 1.0005534441526802\n",
      "7 5 1.0010100413989977\n",
      "7 6 1.0015022821308726\n",
      "7 7 1.0007513022040073\n",
      "8 -8 0.9971729845258009\n",
      "8 -7 0.9992416855337116\n",
      "8 -6 0.9978849413052008\n",
      "8 -5 0.9925549035378586\n",
      "8 -4 1.0014788339147283\n",
      "8 -3 0.9978214080148007\n",
      "8 -2 0.9960080622015218\n",
      "8 -1 0.9893936156328155\n",
      "8 0 1.001853692143338\n",
      "8 1 0.9989450812073811\n",
      "8 2 0.9974033652919184\n",
      "8 3 0.989116338880136\n",
      "8 4 0.9991390143738538\n",
      "8 5 0.998238244853391\n",
      "8 6 0.9980863759030648\n",
      "8 7 0.9985249680293449\n",
      "8 8 0.9994985139877199\n",
      "9 -9 1.0000143288548065\n",
      "9 -8 0.9973932359592319\n",
      "9 -7 0.999081239883114\n",
      "9 -6 1.0064552254623949\n",
      "9 -5 1.0008750642038216\n",
      "9 -4 1.0005661683130185\n",
      "9 -3 1.0027834793340473\n",
      "9 -2 0.999769272486882\n",
      "9 -1 1.0022691360731273\n",
      "9 0 0.999909112926276\n",
      "9 1 1.002016321130352\n",
      "9 2 1.0006565800304368\n",
      "9 3 0.9968002284252101\n",
      "9 4 0.9958712397368469\n",
      "9 5 1.0031810868104403\n",
      "9 6 0.9938157905142414\n",
      "9 7 0.9945820384979058\n",
      "9 8 0.9978020623987934\n",
      "9 9 1.004210250657832\n"
     ]
    }
   ],
   "source": [
    "\n",
    "for l in range(10):\n",
    "    for m in range(-l, l+1):\n",
    "        #l,m = 6,2\n",
    "        alpha = np.random.uniform(.3,2)\n",
    "        p = bk.ket( get_Npi(alpha, l)* N(l,m)*get_Slm(l,m) * sp.exp(-alpha*(x**2 + y**2 + z**2) ) )\n",
    "\n",
    "\n",
    "\n",
    "\n",
    "        print(l, m, p.bra@p)\n",
    "        #print(dobfac(2*l - 1))\n"
   ]
  },
  {
   "cell_type": "code",
   "execution_count": 53,
   "id": "9f87c21b",
   "metadata": {},
   "outputs": [
    {
     "name": "stdout",
     "output_type": "stream",
     "text": [
      "0 0.0\n",
      "0 0.0\n",
      "0 0.0\n",
      "1.0\n"
     ]
    },
    {
     "data": {
      "text/latex": [
       "$\\displaystyle 1.0 \\left(- 0.5 x_{0; 0}^{2.0} - 0.5 x_{0; 1}^{2.0} + 1.0 x_{0; 2}^{2}\\right) e^{- 1.0 x_{0; 0}^{2} - 1.0 x_{0; 1}^{2} - 1.0 x_{0; 2}^{2}}$"
      ],
      "text/plain": [
       "1.0*(-0.5*x_{0; 0}**2.0 - 0.5*x_{0; 1}**2.0 + 1.0*x_{0; 2}**2)*exp(-1.0*x_{0; 0}**2 - 1.0*x_{0; 1}**2 - 1.0*x_{0; 2}**2)"
      ]
     },
     "execution_count": 53,
     "metadata": {},
     "output_type": "execute_result"
    }
   ],
   "source": [
    "l, m = 2,0\n",
    "\n",
    "slm = 0\n",
    "for t in range(int(np.floor((l-abs(m))/2))+1):\n",
    "    for u in range(t +1 ):\n",
    "        vm = V(m)\n",
    "        #print(np.arange(vm, abs(m)/2  + 1))\n",
    "        for v in np.arange(vm, np.floor(abs(m)/2 - vm) + vm + 1) :\n",
    "            print(m ,2*v)\n",
    "            slm += c(l,m,t,u,v)*x**(2*t + abs(m) - 2*(u+v)) * y**(2*(u+v)) * z**(l-2*t-abs(m))\n",
    "            \n",
    "s1 = bk.ket(N(l,m)*slm*sp.exp(-1.0*(x**2 + y**2 + z**2)))\n",
    "s2 = bk.basisbank.get_gto(1.0, l,m)\n",
    "print(N(l,m))\n",
    "s1.ket_sympy_expression\n",
    "#(2**(m==0))**-1"
   ]
  },
  {
   "cell_type": "code",
   "execution_count": null,
   "id": "ae48209c",
   "metadata": {},
   "outputs": [],
   "source": [
    "s2.ket_sympy_expression\n"
   ]
  },
  {
   "cell_type": "code",
   "execution_count": null,
   "id": "295660a9",
   "metadata": {},
   "outputs": [],
   "source": [
    "f = sp.lambdify((x,y,z), s1)\n",
    "f = \n"
   ]
  },
  {
   "cell_type": "code",
   "execution_count": null,
   "id": "94c5f1b5",
   "metadata": {},
   "outputs": [],
   "source": [
    "binom(4,2)"
   ]
  },
  {
   "cell_type": "code",
   "execution_count": null,
   "id": "befd8d30",
   "metadata": {},
   "outputs": [],
   "source": [
    "np.arange(.5, 7.5)"
   ]
  },
  {
   "cell_type": "code",
   "execution_count": null,
   "id": "e03a9763",
   "metadata": {},
   "outputs": [],
   "source": [
    "m = 1\n",
    "for i in np.arange(V(m), abs(m)/2  + vm + 1):\n",
    "    print(i, \"t\")"
   ]
  },
  {
   "cell_type": "code",
   "execution_count": 75,
   "id": "2c434a1d",
   "metadata": {},
   "outputs": [
    {
     "data": {
      "text/plain": [
       "array([2, 4])"
      ]
     },
     "execution_count": 75,
     "metadata": {},
     "output_type": "execute_result"
    }
   ],
   "source": [
    "np.arange(0, 4, 2 ) + 2"
   ]
  },
  {
   "cell_type": "code",
   "execution_count": 71,
   "id": "605b7699",
   "metadata": {},
   "outputs": [
    {
     "ename": "SyntaxError",
     "evalue": "invalid syntax (2509751064.py, line 6)",
     "output_type": "error",
     "traceback": [
      "\u001b[0;36m  Cell \u001b[0;32mIn [71], line 6\u001b[0;36m\u001b[0m\n\u001b[0;31m    if n>=0 and n%2 = 0:\u001b[0m\n\u001b[0m                    ^\u001b[0m\n\u001b[0;31mSyntaxError\u001b[0m\u001b[0;31m:\u001b[0m invalid syntax\n"
     ]
    }
   ],
   "source": [
    "def dobfac(n):\n",
    "    \"\"\"\n",
    "    double factorial function\n",
    "    eq. 6.5.10 in pink bible\n",
    "    \"\"\"\n",
    "    if n>=0 and n%2 = 0:\n",
    "        return np.prod(np.arange(0, n, 2 ) + 2)\n",
    "    else:\n",
    "        if n%2==1:\n",
    "            return np.prod(np.arange(0, n, 2 ) + 1)\n",
    "\n",
    "        \n"
   ]
  },
  {
   "cell_type": "code",
   "execution_count": 77,
   "id": "1719cfde",
   "metadata": {},
   "outputs": [
    {
     "data": {
      "text/plain": [
       "0"
      ]
     },
     "execution_count": 77,
     "metadata": {},
     "output_type": "execute_result"
    }
   ],
   "source": [
    "-6%2\n"
   ]
  },
  {
   "cell_type": "code",
   "execution_count": 82,
   "id": "ae0092f8",
   "metadata": {},
   "outputs": [
    {
     "data": {
      "text/plain": [
       "105"
      ]
     },
     "execution_count": 82,
     "metadata": {},
     "output_type": "execute_result"
    }
   ],
   "source": [
    "n = 8\n",
    "np.prod(np.arange(0, n, 2 ) + 1)"
   ]
  },
  {
   "cell_type": "code",
   "execution_count": null,
   "id": "81e7254f",
   "metadata": {},
   "outputs": [],
   "source": []
  }
 ],
 "metadata": {
  "kernelspec": {
   "display_name": "Python 3 (ipykernel)",
   "language": "python",
   "name": "python3"
  },
  "language_info": {
   "codemirror_mode": {
    "name": "ipython",
    "version": 3
   },
   "file_extension": ".py",
   "mimetype": "text/x-python",
   "name": "python",
   "nbconvert_exporter": "python",
   "pygments_lexer": "ipython3",
   "version": "3.10.6"
  }
 },
 "nbformat": 4,
 "nbformat_minor": 5
}
