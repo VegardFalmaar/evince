{
 "cells": [
  {
   "cell_type": "code",
   "execution_count": 1,
   "id": "af439066",
   "metadata": {},
   "outputs": [
    {
     "data": {
      "application/vnd.jupyter.widget-view+json": {
       "model_id": "b5279d912a444cfd96498345bf765449",
       "version_major": 2,
       "version_minor": 0
      },
      "text/plain": [
       "MDView(bg_color=[1.0, 1.0, 1.0], box=[-10, -10, -10], colors=[[0.23497291425131117, 0.9537218896621725, 0.2465…"
      ]
     },
     "execution_count": 1,
     "metadata": {},
     "output_type": "execute_result"
    }
   ],
   "source": [
    "import numpy as np\n",
    "import bubblebox as bb\n",
    "\n",
    "b = bb.mdbox(10**3, size = (-10,-10,-10))\n",
    "b.view()\n"
   ]
  },
  {
   "cell_type": "code",
   "execution_count": 2,
   "id": "2dc732af",
   "metadata": {},
   "outputs": [
    {
     "name": "stdout",
     "output_type": "stream",
     "text": [
      " Time per iteration\n",
      "0.019515164852142334\n",
      "Total time:\n",
      "19.515164852142334\n",
      "FPS: 51.24220100504158\n"
     ]
    }
   ],
   "source": [
    "\n",
    "import time\n",
    "\n",
    "\n",
    "t0 = time.time()\n",
    "\n",
    "\n",
    "Ni = 1000\n",
    "\n",
    "for i in range(Ni):\n",
    "    b.advance()\n",
    "    b.update_view()\n",
    "T = time.time()-t0\n",
    "print(\" Time per iteration\")\n",
    "print(T/Ni)\n",
    "print(\"Total time:\")\n",
    "print(T)\n",
    "print(\"FPS:\", Ni/T)"
   ]
  },
  {
   "cell_type": "code",
   "execution_count": null,
   "id": "cfd8a738",
   "metadata": {},
   "outputs": [],
   "source": []
  }
 ],
 "metadata": {
  "kernelspec": {
   "display_name": "Python 3 (ipykernel)",
   "language": "python",
   "name": "python3"
  },
  "language_info": {
   "codemirror_mode": {
    "name": "ipython",
    "version": 3
   },
   "file_extension": ".py",
   "mimetype": "text/x-python",
   "name": "python",
   "nbconvert_exporter": "python",
   "pygments_lexer": "ipython3",
   "version": "3.10.6"
  }
 },
 "nbformat": 4,
 "nbformat_minor": 5
}
