{
 "cells": [
  {
   "cell_type": "code",
   "execution_count": 21,
   "id": "9b1e50d4",
   "metadata": {},
   "outputs": [],
   "source": [
    "import numpy as np\n",
    "import numba as nb\n",
    "import time as tm"
   ]
  },
  {
   "cell_type": "code",
   "execution_count": 22,
   "id": "838f82d6",
   "metadata": {},
   "outputs": [],
   "source": [
    "@nb.jit(nopython=True)\n",
    "def f(i,j):\n",
    "    return 1/(1+i**2 + j**2)\n",
    "\n",
    "@nb.jit(nopython=True)\n",
    "def forces(N, f, I):\n",
    "    Z = np.zeros((N,N))\n",
    "    \n",
    "    for i in range(N):\n",
    "        for j in range(N):\n",
    "            Z[i,j] = f(i,I[i,j])\n",
    "            \n",
    "            "
   ]
  },
  {
   "cell_type": "code",
   "execution_count": 24,
   "id": "9c6f9352",
   "metadata": {},
   "outputs": [
    {
     "name": "stdout",
     "output_type": "stream",
     "text": [
      "0.0021532424211502077\n"
     ]
    }
   ],
   "source": [
    "I = np.ones((1000,1000))\n",
    "\n",
    "Ni = 10000\n",
    "t0 = tm.time()\n",
    "for i in range(Ni):\n",
    "    forces(1000,f, I)\n",
    "print((tm.time()-t0)/Ni)"
   ]
  },
  {
   "cell_type": "code",
   "execution_count": null,
   "id": "51dace3f",
   "metadata": {},
   "outputs": [],
   "source": [
    "0.0012739634990692138"
   ]
  }
 ],
 "metadata": {
  "kernelspec": {
   "display_name": "Python 3 (ipykernel)",
   "language": "python",
   "name": "python3"
  },
  "language_info": {
   "codemirror_mode": {
    "name": "ipython",
    "version": 3
   },
   "file_extension": ".py",
   "mimetype": "text/x-python",
   "name": "python",
   "nbconvert_exporter": "python",
   "pygments_lexer": "ipython3",
   "version": "3.10.6"
  }
 },
 "nbformat": 4,
 "nbformat_minor": 5
}
