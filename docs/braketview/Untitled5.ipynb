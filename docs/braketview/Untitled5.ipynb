{
 "cells": [
  {
   "cell_type": "code",
   "execution_count": null,
   "id": "64ff0989",
   "metadata": {},
   "outputs": [],
   "source": [
    "import bubblebox as bb\n",
    "from bubblebox.mdbox import lj_force, coulomb_force, mdbox\n",
    "import numpy as np"
   ]
  },
  {
   "cell_type": "code",
   "execution_count": null,
   "id": "5867cf24",
   "metadata": {},
   "outputs": [],
   "source": [
    "b = bb.mdbox(7, size= (-2.5,-2.5))\n",
    "\n",
    "b.set_forces(lj_force, force_params=np.array([50,2.5*2**(-1/6)]))\n",
    "\n",
    "#pick N random spheres which repel\n",
    "\n",
    "#ba = np.random.choice(b.n_bubbles, 3, replace = False)\n",
    "#b.set_forces(coulomb_force, bubbles_a=ba, bubbles_b = ba, force_params = np.array([6,6]))\n",
    "\n",
    "b.set_masses(np.random.randint(1,4,b.masses.shape[0]))\n",
    "b.view()"
   ]
  },
  {
   "cell_type": "code",
   "execution_count": null,
   "id": "bc9c6b9f",
   "metadata": {},
   "outputs": [],
   "source": [
    "for i in range(10000):\n",
    "    for j in range(3):\n",
    "        b.advance()\n",
    "    b.vel_ *= .999\n",
    "    b.update_view()"
   ]
  },
  {
   "cell_type": "code",
   "execution_count": null,
   "id": "e6654967",
   "metadata": {},
   "outputs": [],
   "source": [
    "def extend_system(b, n_layers = 1):\n",
    "    \"\"\"\n",
    "    add n_layers extra layers around the simulation cell, cloning content in the reference\n",
    "    \"\"\"\n",
    "    \n",
    "    lattice_vec = 2*np.abs(np.array(b.size))*np.eye(len(b.size))\n",
    "    lattice_coords = np.array(np.meshgrid(*[np.arange(-1,1+1) for i in range(len(b.size))])).reshape( len(b.size), -1)\n",
    "    \n",
    "    \n",
    "    \n",
    "    n_cells = 3**len(b.size) \n",
    "    nb = b.n_bubbles*n_cells\n",
    "    \n",
    "    B = mdbox(nb, size = np.array(b.size)*3)\n",
    "    \n",
    "    \n",
    "    pos = np.zeros((len(b.size), nb ), dtype = float)\n",
    "    masses = np.zeros(nb, dtype = float)\n",
    "    \n",
    "    print(b.pos.shape)\n",
    "    \n",
    "    for i in range(n_cells):\n",
    "        pos[:, i*b.n_bubbles:(i+1)*b.n_bubbles] = b.pos + lattice_coords[:,i].dot(lattice_vec)[:, None] \n",
    "        #print(\"masses:\", masses[i*b.n_bubbles:(i+1)*b.n_bubbles])\n",
    "        masses[i*b.n_bubbles:(i+1)*b.n_bubbles] = b.masses\n",
    "        for j in range(n_cells):\n",
    "            B.interactions[i*b.n_bubbles:(i+1)*b.n_bubbles, j*b.n_bubbles:(j+1)*b.n_bubbles] = b.interactions\n",
    "        \n",
    "    B.pos = pos\n",
    "    B.set_masses(masses)\n",
    "     \n",
    "    return B\n",
    "\n",
    "    \n",
    "    \n",
    "    \n",
    "B = extend_system(b)\n",
    "\n",
    "B.view()"
   ]
  },
  {
   "cell_type": "code",
   "execution_count": null,
   "id": "a03b38d4",
   "metadata": {},
   "outputs": [],
   "source": [
    "B.vel_ *= 10.4\n",
    "for i in range(10000):\n",
    "    for j in range(3):\n",
    "        B.advance()\n",
    "    #B.vel_ *= .999\n",
    "    B.update_view()"
   ]
  },
  {
   "cell_type": "code",
   "execution_count": null,
   "id": "78db6cdb",
   "metadata": {},
   "outputs": [],
   "source": [
    "B.evince()"
   ]
  },
  {
   "cell_type": "code",
   "execution_count": null,
   "id": "8bea7748",
   "metadata": {},
   "outputs": [],
   "source": []
  }
 ],
 "metadata": {
  "kernelspec": {
   "display_name": "Python 3 (ipykernel)",
   "language": "python",
   "name": "python3"
  },
  "language_info": {
   "codemirror_mode": {
    "name": "ipython",
    "version": 3
   },
   "file_extension": ".py",
   "mimetype": "text/x-python",
   "name": "python",
   "nbconvert_exporter": "python",
   "pygments_lexer": "ipython3",
   "version": "3.10.6"
  }
 },
 "nbformat": 4,
 "nbformat_minor": 5
}
