{
 "cells": [
  {
   "cell_type": "code",
   "execution_count": 1,
   "id": "d6b88283",
   "metadata": {},
   "outputs": [
    {
     "data": {
      "application/vnd.jupyter.widget-view+json": {
       "model_id": "",
       "version_major": 2,
       "version_minor": 0
      },
      "text/plain": [
       "BraketView(ao=[1], bg_color=[0.0, 0.0, 0.0], fragment_shader='uniform vec3 user_color;\\nuniform float time;\\n\\…"
      ]
     },
     "execution_count": 1,
     "metadata": {},
     "output_type": "execute_result"
    }
   ],
   "source": [
    "import braketlab as bk\n",
    "import numpy as np\n",
    "\n",
    "\n",
    "l,m = 1,0\n",
    "p1 = bk.basisbank.get_gto(15.0, l, m)\n",
    "p1.energy = [.2]\n",
    "\n",
    "for i in range(10):\n",
    "    l = np.random.randint(8)\n",
    "    m = np.random.randint(-l, l+1)\n",
    "    pos = np.random.uniform(-3,3,3)\n",
    "    pos[0] += 3.0\n",
    "    pn = bk.basisbank.get_gto(np.random.uniform(1,15), l, m, position = pos)\n",
    "    pn.energy = [np.random.uniform(.1,2)]\n",
    "    p1 += pn\n",
    "\n",
    "p1.view()"
   ]
  },
  {
   "cell_type": "code",
   "execution_count": null,
   "id": "9f3c924a",
   "metadata": {},
   "outputs": [],
   "source": []
  }
 ],
 "metadata": {
  "kernelspec": {
   "display_name": "Python 3 (ipykernel)",
   "language": "python",
   "name": "python3"
  },
  "language_info": {
   "codemirror_mode": {
    "name": "ipython",
    "version": 3
   },
   "file_extension": ".py",
   "mimetype": "text/x-python",
   "name": "python",
   "nbconvert_exporter": "python",
   "pygments_lexer": "ipython3",
   "version": "3.10.6"
  }
 },
 "nbformat": 4,
 "nbformat_minor": 5
}
