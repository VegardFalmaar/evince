{
 "cells": [
  {
   "cell_type": "code",
   "execution_count": 1,
   "id": "b683c849",
   "metadata": {},
   "outputs": [],
   "source": [
    "import braketlab as bk"
   ]
  },
  {
   "cell_type": "code",
   "execution_count": 4,
   "id": "6d116436",
   "metadata": {},
   "outputs": [
    {
     "data": {
      "application/vnd.jupyter.widget-view+json": {
       "model_id": "e804296881554c1ba7ed84df807476f5",
       "version_major": 2,
       "version_minor": 0
      },
      "text/plain": [
       "BraketView(additive=False, ao=[1], bg_color=[1.0, 1.0, 1.0], fragment_shader='uniform vec3 user_color;\\nunifor…"
      ]
     },
     "execution_count": 4,
     "metadata": {},
     "output_type": "execute_result"
    }
   ],
   "source": [
    "bv = bk.basisbank.get_harmonic_oscillator_function(3).view(web=True)\n",
    "\n",
    "bv"
   ]
  },
  {
   "cell_type": "code",
   "execution_count": 5,
   "id": "fb0fae57",
   "metadata": {},
   "outputs": [],
   "source": [
    "from ipywidgets.embed import embed_minimal_html\n",
    "\n",
    "embed_minimal_html(\"HO3.html\", [bv])"
   ]
  },
  {
   "cell_type": "code",
   "execution_count": null,
   "id": "7ff2d2dd",
   "metadata": {},
   "outputs": [],
   "source": []
  }
 ],
 "metadata": {
  "kernelspec": {
   "display_name": "Python 3 (ipykernel)",
   "language": "python",
   "name": "python3"
  },
  "language_info": {
   "codemirror_mode": {
    "name": "ipython",
    "version": 3
   },
   "file_extension": ".py",
   "mimetype": "text/x-python",
   "name": "python",
   "nbconvert_exporter": "python",
   "pygments_lexer": "ipython3",
   "version": "3.10.6"
  }
 },
 "nbformat": 4,
 "nbformat_minor": 5
}
