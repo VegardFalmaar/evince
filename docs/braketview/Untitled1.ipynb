{
 "cells": [
  {
   "cell_type": "code",
   "execution_count": 1,
   "id": "45397df7",
   "metadata": {},
   "outputs": [],
   "source": [
    "## Generating GTOs\n",
    "\n",
    "import sympy as sp\n",
    "import numpy as np\n",
    "import braketlab as bk\n",
    "import braketlab.solid_harmonics as sh\n",
    "x,y,z = bk.get_default_variables(0,3)"
   ]
  },
  {
   "cell_type": "code",
   "execution_count": null,
   "id": "93c9011b",
   "metadata": {},
   "outputs": [],
   "source": [
    "\"\"\"\n",
    "Real solid harmonic Gaussian basis function,\n",
    "as presented in chapter 6 of Helgaker, T., Jorgensen, P., & Olsen, J. (2014). Molecular electronic-structure theory. John Wiley & Sons.\n",
    "\"\"\"\n",
    "\n",
    "def get_default_variables(p, n = 3):\n",
    "    variables = []\n",
    "    for i in range(n):\n",
    "        variables.append(sp.Symbol(\"x_{%i; %i}\" % (p, i)))\n",
    "    return variables\n",
    "\n",
    "def binom(a,b):\n",
    "    #print(a,b)\n",
    "    return np.math.factorial(int(a))/(np.math.factorial(int(b))*np.math.factorial(int(a-b)))\n",
    "\n",
    "def V(m):\n",
    "    \"\"\"\n",
    "    eq. 6.4.50, pink bible (*)\n",
    "    \"\"\"\n",
    "    vm = 0\n",
    "    if m<0:\n",
    "        vm = .5\n",
    "    return vm\n",
    "\n",
    "def c(l,m,t,u,v):\n",
    "    \"\"\"\n",
    "    eq. 6.4.48, pink bible (*)\n",
    "    \"\"\"\n",
    "    return (-1)**(t + v - V(m)) * (.25)**t * binom(l,t) * binom(l-t, abs(m)+t) * binom(t,u) * binom( abs(m), 2*v )\n",
    "\n",
    "def N(l,m):\n",
    "    \"\"\"\n",
    "    eq. 6.4.49, pink bible (*)\n",
    "    \"\"\"\n",
    "    return 1/(2**abs(m) * np.math.factorial(l) ) * np.sqrt( 2* np.math.factorial(l + abs(m))*np.math.factorial(l - abs(m)) * (2**(m==0))**-1)\n",
    "\n",
    "def get_Slm(l,m):\n",
    "    \"\"\"\n",
    "    eq. 6.4.47, pink bible (*)\n",
    "    \"\"\"\n",
    "    slm = 0\n",
    "    for t in range(int(np.floor((l-abs(m))/2))+1):\n",
    "        for u in range(t +1 ):\n",
    "            vm = V(m)\n",
    "            for v in np.arange(vm, np.floor(abs(m)/2 - vm) + vm + 1) :\n",
    "                slm += c(l,m,t,u,v)*x**(2*t + abs(m) - 2*(u+v)) * y**(2*(u+v)) * z**(l-2*t-abs(m))\n",
    "    return slm\n",
    "\n",
    "def get_gto(a,l,m):\n",
    "    \"\"\"\n",
    "    eq. 6.6.15, pink bible (*)\n",
    "    \"\"\"\n",
    "    return get_Slm(l,m) * sp.exp(-alpha*(x**2 + y**2 + z**2) )\n",
    "    \n",
    "    \n",
    "\n",
    "def get_Npi(a_i, l):\n",
    "    \"\"\"\n",
    "    Returns the normalization prefactor for S_lm(a_i, r)\n",
    "    a_i = exponent\n",
    "    l = angular quantum number\n",
    "    \"\"\"\n",
    "    return (2.0*np.pi)**(-.75) * (4.0*a_i)**(0.75 + l/2.0)  * float(dobfac(2*l - 1))**-.5\n",
    "\n",
    "\n",
    "def dobfac(n):\n",
    "    \"\"\"\n",
    "    'double' factorial function\n",
    "    eq. 6.5.10 in pink bible (*)\n",
    "    \"\"\"\n",
    "    if n>=0 and n%2 == 0:\n",
    "        return np.prod(np.arange(0, n, 2 ) + 2)\n",
    "    else:\n",
    "        if n%2==1:\n",
    "            return np.prod(np.arange(0, n, 2 ) + 1)\n"
   ]
  },
  {
   "cell_type": "code",
   "execution_count": null,
   "id": "1d8591c2",
   "metadata": {},
   "outputs": [],
   "source": [
    "\n",
    "for l in range(10):\n",
    "    for m in range(-l, l+1):\n",
    "        #l,m = 6,2\n",
    "        alpha = np.random.uniform(.3,2)\n",
    "        p = bk.ket( get_Npi(alpha, l)* N(l,m)*get_Slm(l,m) * sp.exp(-alpha*(x**2 + y**2 + z**2) ) )\n",
    "\n",
    "\n",
    "\n",
    "\n",
    "        print(l, m, p.bra@p)\n",
    "        #print(dobfac(2*l - 1))\n"
   ]
  },
  {
   "cell_type": "code",
   "execution_count": null,
   "id": "9f87c21b",
   "metadata": {},
   "outputs": [],
   "source": [
    "l, m = 2,0\n",
    "\n",
    "slm = 0\n",
    "for t in range(int(np.floor((l-abs(m))/2))+1):\n",
    "    for u in range(t +1 ):\n",
    "        vm = V(m)\n",
    "        #print(np.arange(vm, abs(m)/2  + 1))\n",
    "        for v in np.arange(vm, np.floor(abs(m)/2 - vm) + vm + 1) :\n",
    "            print(m ,2*v)\n",
    "            slm += c(l,m,t,u,v)*x**(2*t + abs(m) - 2*(u+v)) * y**(2*(u+v)) * z**(l-2*t-abs(m))\n",
    "            \n",
    "s1 = bk.ket(N(l,m)*slm*sp.exp(-1.0*(x**2 + y**2 + z**2)))\n",
    "s2 = bk.basisbank.get_gto(1.0, l,m)\n",
    "print(N(l,m))\n",
    "s1.ket_sympy_expression\n",
    "#(2**(m==0))**-1"
   ]
  },
  {
   "cell_type": "code",
   "execution_count": 5,
   "id": "ae48209c",
   "metadata": {},
   "outputs": [
    {
     "data": {
      "text/plain": [
       "0"
      ]
     },
     "metadata": {},
     "output_type": "display_data"
    },
    {
     "data": {
      "text/plain": [
       "0"
      ]
     },
     "metadata": {},
     "output_type": "display_data"
    },
    {
     "data": {
      "text/latex": [
       "$\\displaystyle 5.43223483914463 e^{- 15.0 x_{0; 0}^{2} - 15.0 x_{0; 1}^{2} - 15.0 x_{0; 2}^{2}}$"
      ],
      "text/plain": [
       "5.43223483914463*exp(-15.0*x_{0; 0}**2 - 15.0*x_{0; 1}**2 - 15.0*x_{0; 2}**2)"
      ]
     },
     "metadata": {},
     "output_type": "display_data"
    },
    {
     "name": "stdout",
     "output_type": "stream",
     "text": [
      " --- \n"
     ]
    },
    {
     "data": {
      "text/plain": [
       "1"
      ]
     },
     "metadata": {},
     "output_type": "display_data"
    },
    {
     "data": {
      "text/plain": [
       "-1"
      ]
     },
     "metadata": {},
     "output_type": "display_data"
    },
    {
     "data": {
      "text/latex": [
       "$\\displaystyle 42.0779101293897 x_{0; 1}^{1.0} e^{- 15.0 x_{0; 0}^{2} - 15.0 x_{0; 1}^{2} - 15.0 x_{0; 2}^{2}}$"
      ],
      "text/plain": [
       "42.0779101293897*x_{0; 1}**1.0*exp(-15.0*x_{0; 0}**2 - 15.0*x_{0; 1}**2 - 15.0*x_{0; 2}**2)"
      ]
     },
     "metadata": {},
     "output_type": "display_data"
    },
    {
     "data": {
      "text/plain": [
       "1"
      ]
     },
     "metadata": {},
     "output_type": "display_data"
    },
    {
     "data": {
      "text/plain": [
       "0"
      ]
     },
     "metadata": {},
     "output_type": "display_data"
    },
    {
     "data": {
      "text/latex": [
       "$\\displaystyle 42.0779101293897 x_{0; 2} e^{- 15.0 x_{0; 0}^{2} - 15.0 x_{0; 1}^{2} - 15.0 x_{0; 2}^{2}}$"
      ],
      "text/plain": [
       "42.0779101293897*x_{0; 2}*exp(-15.0*x_{0; 0}**2 - 15.0*x_{0; 1}**2 - 15.0*x_{0; 2}**2)"
      ]
     },
     "metadata": {},
     "output_type": "display_data"
    },
    {
     "data": {
      "text/plain": [
       "1"
      ]
     },
     "metadata": {},
     "output_type": "display_data"
    },
    {
     "data": {
      "text/plain": [
       "1"
      ]
     },
     "metadata": {},
     "output_type": "display_data"
    },
    {
     "data": {
      "text/latex": [
       "$\\displaystyle 42.0779101293897 x_{0; 0}^{1.0} e^{- 15.0 x_{0; 0}^{2} - 15.0 x_{0; 1}^{2} - 15.0 x_{0; 2}^{2}}$"
      ],
      "text/plain": [
       "42.0779101293897*x_{0; 0}**1.0*exp(-15.0*x_{0; 0}**2 - 15.0*x_{0; 1}**2 - 15.0*x_{0; 2}**2)"
      ]
     },
     "metadata": {},
     "output_type": "display_data"
    },
    {
     "name": "stdout",
     "output_type": "stream",
     "text": [
      " --- \n"
     ]
    },
    {
     "data": {
      "text/plain": [
       "2"
      ]
     },
     "metadata": {},
     "output_type": "display_data"
    },
    {
     "data": {
      "text/plain": [
       "-2"
      ]
     },
     "metadata": {},
     "output_type": "display_data"
    },
    {
     "data": {
      "text/latex": [
       "$\\displaystyle 325.934090348678 x_{0; 0}^{1.0} x_{0; 1}^{1.0} e^{- 15.0 x_{0; 0}^{2} - 15.0 x_{0; 1}^{2} - 15.0 x_{0; 2}^{2}}$"
      ],
      "text/plain": [
       "325.934090348678*x_{0; 0}**1.0*x_{0; 1}**1.0*exp(-15.0*x_{0; 0}**2 - 15.0*x_{0; 1}**2 - 15.0*x_{0; 2}**2)"
      ]
     },
     "metadata": {},
     "output_type": "display_data"
    },
    {
     "data": {
      "text/plain": [
       "2"
      ]
     },
     "metadata": {},
     "output_type": "display_data"
    },
    {
     "data": {
      "text/plain": [
       "-1"
      ]
     },
     "metadata": {},
     "output_type": "display_data"
    },
    {
     "data": {
      "text/latex": [
       "$\\displaystyle 325.934090348678 x_{0; 1}^{1.0} x_{0; 2} e^{- 15.0 x_{0; 0}^{2} - 15.0 x_{0; 1}^{2} - 15.0 x_{0; 2}^{2}}$"
      ],
      "text/plain": [
       "325.934090348678*x_{0; 1}**1.0*x_{0; 2}*exp(-15.0*x_{0; 0}**2 - 15.0*x_{0; 1}**2 - 15.0*x_{0; 2}**2)"
      ]
     },
     "metadata": {},
     "output_type": "display_data"
    },
    {
     "data": {
      "text/plain": [
       "2"
      ]
     },
     "metadata": {},
     "output_type": "display_data"
    },
    {
     "data": {
      "text/plain": [
       "0"
      ]
     },
     "metadata": {},
     "output_type": "display_data"
    },
    {
     "data": {
      "text/latex": [
       "$\\displaystyle 1.0 \\left(- 94.0890674004424 x_{0; 0}^{2.0} - 94.0890674004424 x_{0; 1}^{2.0} + 188.178134800885 x_{0; 2}^{2}\\right) e^{- 15.0 x_{0; 0}^{2} - 15.0 x_{0; 1}^{2} - 15.0 x_{0; 2}^{2}}$"
      ],
      "text/plain": [
       "1.0*(-94.0890674004424*x_{0; 0}**2.0 - 94.0890674004424*x_{0; 1}**2.0 + 188.178134800885*x_{0; 2}**2)*exp(-15.0*x_{0; 0}**2 - 15.0*x_{0; 1}**2 - 15.0*x_{0; 2}**2)"
      ]
     },
     "metadata": {},
     "output_type": "display_data"
    },
    {
     "data": {
      "text/plain": [
       "2"
      ]
     },
     "metadata": {},
     "output_type": "display_data"
    },
    {
     "data": {
      "text/plain": [
       "1"
      ]
     },
     "metadata": {},
     "output_type": "display_data"
    },
    {
     "data": {
      "text/latex": [
       "$\\displaystyle 325.934090348678 x_{0; 0}^{1.0} x_{0; 2} e^{- 15.0 x_{0; 0}^{2} - 15.0 x_{0; 1}^{2} - 15.0 x_{0; 2}^{2}}$"
      ],
      "text/plain": [
       "325.934090348678*x_{0; 0}**1.0*x_{0; 2}*exp(-15.0*x_{0; 0}**2 - 15.0*x_{0; 1}**2 - 15.0*x_{0; 2}**2)"
      ]
     },
     "metadata": {},
     "output_type": "display_data"
    },
    {
     "data": {
      "text/plain": [
       "2"
      ]
     },
     "metadata": {},
     "output_type": "display_data"
    },
    {
     "data": {
      "text/plain": [
       "2"
      ]
     },
     "metadata": {},
     "output_type": "display_data"
    },
    {
     "data": {
      "text/latex": [
       "$\\displaystyle 1.0 \\cdot \\left(162.967045174339 x_{0; 0}^{2.0} - 162.967045174339 x_{0; 1}^{2.0}\\right) e^{- 15.0 x_{0; 0}^{2} - 15.0 x_{0; 1}^{2} - 15.0 x_{0; 2}^{2}}$"
      ],
      "text/plain": [
       "1.0*(162.967045174339*x_{0; 0}**2.0 - 162.967045174339*x_{0; 1}**2.0)*exp(-15.0*x_{0; 0}**2 - 15.0*x_{0; 1}**2 - 15.0*x_{0; 2}**2)"
      ]
     },
     "metadata": {},
     "output_type": "display_data"
    },
    {
     "name": "stdout",
     "output_type": "stream",
     "text": [
      " --- \n"
     ]
    },
    {
     "data": {
      "text/plain": [
       "3"
      ]
     },
     "metadata": {},
     "output_type": "display_data"
    },
    {
     "data": {
      "text/plain": [
       "-3"
      ]
     },
     "metadata": {},
     "output_type": "display_data"
    },
    {
     "data": {
      "text/latex": [
       "$\\displaystyle 1.0 \\cdot \\left(1546.04113889539 x_{0; 0}^{2.0} x_{0; 1}^{1.0} - 515.347046298463 x_{0; 1}^{3.0}\\right) e^{- 15.0 x_{0; 0}^{2} - 15.0 x_{0; 1}^{2} - 15.0 x_{0; 2}^{2}}$"
      ],
      "text/plain": [
       "1.0*(1546.04113889539*x_{0; 0}**2.0*x_{0; 1}**1.0 - 515.347046298463*x_{0; 1}**3.0)*exp(-15.0*x_{0; 0}**2 - 15.0*x_{0; 1}**2 - 15.0*x_{0; 2}**2)"
      ]
     },
     "metadata": {},
     "output_type": "display_data"
    },
    {
     "data": {
      "text/plain": [
       "3"
      ]
     },
     "metadata": {},
     "output_type": "display_data"
    },
    {
     "data": {
      "text/plain": [
       "-2"
      ]
     },
     "metadata": {},
     "output_type": "display_data"
    },
    {
     "data": {
      "text/latex": [
       "$\\displaystyle 2524.67460776338 x_{0; 0}^{1.0} x_{0; 1}^{1.0} x_{0; 2} e^{- 15.0 x_{0; 0}^{2} - 15.0 x_{0; 1}^{2} - 15.0 x_{0; 2}^{2}}$"
      ],
      "text/plain": [
       "2524.67460776338*x_{0; 0}**1.0*x_{0; 1}**1.0*x_{0; 2}*exp(-15.0*x_{0; 0}**2 - 15.0*x_{0; 1}**2 - 15.0*x_{0; 2}**2)"
      ]
     },
     "metadata": {},
     "output_type": "display_data"
    },
    {
     "data": {
      "text/plain": [
       "3"
      ]
     },
     "metadata": {},
     "output_type": "display_data"
    },
    {
     "data": {
      "text/plain": [
       "-1"
      ]
     },
     "metadata": {},
     "output_type": "display_data"
    },
    {
     "data": {
      "text/latex": [
       "$\\displaystyle 1.0 \\left(- 399.186105566226 x_{0; 0}^{2.0} x_{0; 1}^{1.0} + 1596.7444222649 x_{0; 1}^{1.0} x_{0; 2}^{2} - 399.186105566226 x_{0; 1}^{3.0}\\right) e^{- 15.0 x_{0; 0}^{2} - 15.0 x_{0; 1}^{2} - 15.0 x_{0; 2}^{2}}$"
      ],
      "text/plain": [
       "1.0*(-399.186105566226*x_{0; 0}**2.0*x_{0; 1}**1.0 + 1596.7444222649*x_{0; 1}**1.0*x_{0; 2}**2 - 399.186105566226*x_{0; 1}**3.0)*exp(-15.0*x_{0; 0}**2 - 15.0*x_{0; 1}**2 - 15.0*x_{0; 2}**2)"
      ]
     },
     "metadata": {},
     "output_type": "display_data"
    },
    {
     "data": {
      "text/plain": [
       "3"
      ]
     },
     "metadata": {},
     "output_type": "display_data"
    },
    {
     "data": {
      "text/plain": [
       "0"
      ]
     },
     "metadata": {},
     "output_type": "display_data"
    },
    {
     "data": {
      "text/latex": [
       "$\\displaystyle 1.0 \\left(- 977.802271046033 x_{0; 0}^{2.0} x_{0; 2} - 977.802271046033 x_{0; 1}^{2.0} x_{0; 2} + 651.868180697355 x_{0; 2}^{3}\\right) e^{- 15.0 x_{0; 0}^{2} - 15.0 x_{0; 1}^{2} - 15.0 x_{0; 2}^{2}}$"
      ],
      "text/plain": [
       "1.0*(-977.802271046033*x_{0; 0}**2.0*x_{0; 2} - 977.802271046033*x_{0; 1}**2.0*x_{0; 2} + 651.868180697355*x_{0; 2}**3)*exp(-15.0*x_{0; 0}**2 - 15.0*x_{0; 1}**2 - 15.0*x_{0; 2}**2)"
      ]
     },
     "metadata": {},
     "output_type": "display_data"
    },
    {
     "data": {
      "text/plain": [
       "3"
      ]
     },
     "metadata": {},
     "output_type": "display_data"
    },
    {
     "data": {
      "text/plain": [
       "1"
      ]
     },
     "metadata": {},
     "output_type": "display_data"
    },
    {
     "data": {
      "text/latex": [
       "$\\displaystyle 1.0 \\left(- 399.186105566226 x_{0; 0}^{1.0} x_{0; 1}^{2.0} + 1596.7444222649 x_{0; 0}^{1.0} x_{0; 2}^{2} - 399.186105566226 x_{0; 0}^{3.0}\\right) e^{- 15.0 x_{0; 0}^{2} - 15.0 x_{0; 1}^{2} - 15.0 x_{0; 2}^{2}}$"
      ],
      "text/plain": [
       "1.0*(-399.186105566226*x_{0; 0}**1.0*x_{0; 1}**2.0 + 1596.7444222649*x_{0; 0}**1.0*x_{0; 2}**2 - 399.186105566226*x_{0; 0}**3.0)*exp(-15.0*x_{0; 0}**2 - 15.0*x_{0; 1}**2 - 15.0*x_{0; 2}**2)"
      ]
     },
     "metadata": {},
     "output_type": "display_data"
    },
    {
     "data": {
      "text/plain": [
       "3"
      ]
     },
     "metadata": {},
     "output_type": "display_data"
    },
    {
     "data": {
      "text/plain": [
       "2"
      ]
     },
     "metadata": {},
     "output_type": "display_data"
    },
    {
     "data": {
      "text/latex": [
       "$\\displaystyle 1.0 \\cdot \\left(1262.33730388169 x_{0; 0}^{2.0} x_{0; 2} - 1262.33730388169 x_{0; 1}^{2.0} x_{0; 2}\\right) e^{- 15.0 x_{0; 0}^{2} - 15.0 x_{0; 1}^{2} - 15.0 x_{0; 2}^{2}}$"
      ],
      "text/plain": [
       "1.0*(1262.33730388169*x_{0; 0}**2.0*x_{0; 2} - 1262.33730388169*x_{0; 1}**2.0*x_{0; 2})*exp(-15.0*x_{0; 0}**2 - 15.0*x_{0; 1}**2 - 15.0*x_{0; 2}**2)"
      ]
     },
     "metadata": {},
     "output_type": "display_data"
    },
    {
     "data": {
      "text/plain": [
       "3"
      ]
     },
     "metadata": {},
     "output_type": "display_data"
    },
    {
     "data": {
      "text/plain": [
       "3"
      ]
     },
     "metadata": {},
     "output_type": "display_data"
    },
    {
     "data": {
      "text/latex": [
       "$\\displaystyle 1.0 \\left(- 1546.04113889539 x_{0; 0}^{1.0} x_{0; 1}^{2.0} + 515.347046298463 x_{0; 0}^{3.0}\\right) e^{- 15.0 x_{0; 0}^{2} - 15.0 x_{0; 1}^{2} - 15.0 x_{0; 2}^{2}}$"
      ],
      "text/plain": [
       "1.0*(-1546.04113889539*x_{0; 0}**1.0*x_{0; 1}**2.0 + 515.347046298463*x_{0; 0}**3.0)*exp(-15.0*x_{0; 0}**2 - 15.0*x_{0; 1}**2 - 15.0*x_{0; 2}**2)"
      ]
     },
     "metadata": {},
     "output_type": "display_data"
    },
    {
     "name": "stdout",
     "output_type": "stream",
     "text": [
      " --- \n"
     ]
    }
   ],
   "source": [
    "import IPython.display\n",
    "\n",
    "for l in range(4):\n",
    "    for m in range(-l, l+1):\n",
    "        display(l, m, bk.basisbank.get_gto(15.0, l, m).ket_sympy_expression)\n",
    "    print(\" --- \")\n"
   ]
  },
  {
   "cell_type": "code",
   "execution_count": null,
   "id": "295660a9",
   "metadata": {},
   "outputs": [],
   "source": [
    "f = sp.lambdify((x,y,z), s1)\n",
    "f = \n"
   ]
  },
  {
   "cell_type": "code",
   "execution_count": null,
   "id": "94c5f1b5",
   "metadata": {},
   "outputs": [],
   "source": [
    "binom(4,2)"
   ]
  },
  {
   "cell_type": "code",
   "execution_count": null,
   "id": "befd8d30",
   "metadata": {},
   "outputs": [],
   "source": [
    "np.arange(.5, 7.5)"
   ]
  },
  {
   "cell_type": "code",
   "execution_count": null,
   "id": "e03a9763",
   "metadata": {},
   "outputs": [],
   "source": [
    "m = 1\n",
    "for i in np.arange(V(m), abs(m)/2  + vm + 1):\n",
    "    print(i, \"t\")"
   ]
  },
  {
   "cell_type": "code",
   "execution_count": null,
   "id": "2c434a1d",
   "metadata": {},
   "outputs": [],
   "source": [
    "np.arange(0, 4, 2 ) + 2"
   ]
  },
  {
   "cell_type": "code",
   "execution_count": null,
   "id": "605b7699",
   "metadata": {},
   "outputs": [],
   "source": [
    "def dobfac(n):\n",
    "    \"\"\"\n",
    "    double factorial function\n",
    "    eq. 6.5.10 in pink bible\n",
    "    \"\"\"\n",
    "    if n>=0 and n%2 = 0:\n",
    "        return np.prod(np.arange(0, n, 2 ) + 2)\n",
    "    else:\n",
    "        if n%2==1:\n",
    "            return np.prod(np.arange(0, n, 2 ) + 1)\n",
    "\n",
    "        \n"
   ]
  },
  {
   "cell_type": "code",
   "execution_count": null,
   "id": "a83b54ae",
   "metadata": {},
   "outputs": [],
   "source": [
    "-6%2\n"
   ]
  },
  {
   "cell_type": "code",
   "execution_count": null,
   "id": "d2f42a83",
   "metadata": {},
   "outputs": [],
   "source": [
    "n = 8\n",
    "np.prod(np.arange(0, n, 2 ) + 1)"
   ]
  },
  {
   "cell_type": "code",
   "execution_count": null,
   "id": "982c4e58",
   "metadata": {},
   "outputs": [],
   "source": []
  }
 ],
 "metadata": {
  "kernelspec": {
   "display_name": "Python 3 (ipykernel)",
   "language": "python",
   "name": "python3"
  },
  "language_info": {
   "codemirror_mode": {
    "name": "ipython",
    "version": 3
   },
   "file_extension": ".py",
   "mimetype": "text/x-python",
   "name": "python",
   "nbconvert_exporter": "python",
   "pygments_lexer": "ipython3",
   "version": "3.10.6"
  }
 },
 "nbformat": 4,
 "nbformat_minor": 5
}
