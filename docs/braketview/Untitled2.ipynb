{
 "cells": [
  {
   "cell_type": "code",
   "execution_count": 1,
   "id": "5164d80b",
   "metadata": {},
   "outputs": [
    {
     "data": {
      "text/latex": [
       "$\\displaystyle 4.48089841971133 \\left(x_{0; 0} - 1.0\\right) e^{- \\left(x_{0; 1}^{2.0} + x_{0; 2}^{2.0} + \\left(x_{0; 0} - 1.0\\right)^{2.0}\\right) 2.5}$"
      ],
      "text/plain": [
       "4.48089841971133*(x_{0; 0} - 1.0)*exp(-(x_{0; 1}**2.0 + x_{0; 2}**2.0 + (x_{0; 0} - 1.0)**2.0)*2.5)"
      ]
     },
     "metadata": {},
     "output_type": "display_data"
    },
    {
     "data": {
      "text/latex": [
       "$\\displaystyle 4.48089841971133 \\left(x_{0; 0} - 1.0\\right) e^{- \\left(x_{0; 1}^{2.0} + x_{0; 2}^{2.0} + \\left(x_{0; 0} - 1.0\\right)^{2.0}\\right) 2.5}$"
      ],
      "text/plain": [
       "4.48089841971133*(x_{0; 0} - 1.0)*exp(-(x_{0; 1}**2.0 + x_{0; 2}**2.0 + (x_{0; 0} - 1.0)**2.0)*2.5)"
      ]
     },
     "metadata": {},
     "output_type": "display_data"
    }
   ],
   "source": [
    "import braketlab as bk\n",
    "\n",
    "import braketlab.real_solid_harmonics as rsh\n",
    "import braketlab.solid_harmonics as sh\n",
    "import numpy as np\n",
    "import evince as ev\n",
    "import IPython.display\n",
    "\n",
    "\n",
    "def get_gto_rhs(a,l,m, position = np.array([1.0,0,0])):\n",
    "    \"\"\"\n",
    "    Returns a ket containing the gaussian type primitive orbital with exponent a, \n",
    "    and solid harmonic gaussian angular part defined by l and m\n",
    "    located at position\n",
    "    \"\"\"\n",
    "    psi = rsh.get_gto(a,l,m)\n",
    "\n",
    "    \n",
    "\n",
    "    symbols = np.array(list(psi.free_symbols))\n",
    "    l_symbols = np.argsort([i.name for i in symbols])\n",
    "    symbols = symbols[l_symbols]\n",
    "    #vars = list(psi.free_symbols)\n",
    "    vars = bk.get_default_variables(0, len(symbols))\n",
    "    for i in range(len(vars)):\n",
    "        psi = psi.subs(symbols[i], vars[i])\n",
    "    \n",
    "\n",
    "\n",
    "    return bk.ket(psi, name = \"\\chi_{%i,%i}^{%.2f}\" % (l,m,a), position = position)\n",
    "\n",
    "def get_gto_hs(a,l,m, position = np.array([1.0,0,0])):\n",
    "    \"\"\"\n",
    "    Returns a ket containing the gaussian type primitive orbital with exponent a, \n",
    "    and solid harmonic gaussian angular part defined by l and m\n",
    "    located at position\n",
    "    \"\"\"\n",
    "    psi = sh.get_Nao(a, l, m)\n",
    "\n",
    "    \n",
    "\n",
    "    symbols = np.array(list(psi.free_symbols))\n",
    "    l_symbols = np.argsort([i.name for i in symbols])\n",
    "    symbols = symbols[l_symbols]\n",
    "    #vars = list(psi.free_symbols)\n",
    "    vars = bk.get_default_variables(0, len(symbols))\n",
    "    for i in range(len(vars)):\n",
    "        psi = psi.subs(symbols[i], vars[i])\n",
    "    \n",
    "\n",
    "\n",
    "    return bk.ket(psi, name = \"\\chi_{%i,%i}^{%.2f}\" % (l,m,a), position = position)\n",
    "\n",
    "l, m= 1, 1\n",
    "\n",
    "p_rsh = get_gto_rhs(2.5, l,m)\n",
    "p_sh = get_gto_hs(2.5, l,m)\n",
    "display(p_rsh.ket_sympy_expression)\n",
    "display(p_sh.ket_sympy_expression)"
   ]
  },
  {
   "cell_type": "code",
   "execution_count": 7,
   "id": "d01c96fa",
   "metadata": {},
   "outputs": [
    {
     "name": "stdout",
     "output_type": "stream",
     "text": [
      "uniform vec3 user_color;\n",
      "uniform float time;\n",
      "\n",
      "varying vec2 vUv;\n",
      "varying vec3 pos;\n",
      "varying vec3 tex;\n",
      "varying float q;\n",
      "varying float csI;\n",
      "varying float csR;\n",
      "varying float cs0;\n",
      "varying float cs;\n",
      "\n",
      "void main() {\n",
      "\n",
      "    vec2 p = vUv;\n",
      "    float q = tex[0]*tex[0] +tex[1]*tex[1] +tex[2]*tex[2] ;\n",
      "    float cs0 = (4.4808984197113251*tex[0] - 4.4808984197113251)*exp(-2.5*pow(tex[1], 2.0) - 2.5*pow(tex[2], 2.0) - 2.5*pow(tex[0] - 1.0, 2.0));\n",
      "    float csI = 0.0 ;\n",
      "    float csR = cs0 ;\n",
      "    gl_FragColor = vec4(.9*csR ,  csI, -1.0*csR, 0.100000);\n",
      "}\n",
      "uniform vec3 user_color;\n",
      "uniform float time;\n",
      "\n",
      "varying vec2 vUv;\n",
      "varying vec3 pos;\n",
      "varying vec3 tex;\n",
      "varying float q;\n",
      "varying float csI;\n",
      "varying float csR;\n",
      "varying float cs0;\n",
      "varying float cs;\n",
      "\n",
      "void main() {\n",
      "\n",
      "    vec2 p = vUv;\n",
      "    float q = tex[0]*tex[0] +tex[1]*tex[1] +tex[2]*tex[2] ;\n",
      "    float cs0 = (4.4808984197113251*tex[0] - 4.4808984197113251)*exp(-2.5*pow(tex[1], 2.0) - 2.5*pow(tex[2], 2.0) - 2.5*pow(tex[0] - 1.0, 2.0));\n",
      "    float csI = 0.0 ;\n",
      "    float csR = cs0 ;\n",
      "    gl_FragColor = vec4(.9*csR ,  csI, -1.0*csR, 0.100000);\n",
      "}\n"
     ]
    }
   ],
   "source": [
    "p_rsh.view()\n",
    "print(p_rsh.m.fragment_shader)\n",
    "\n",
    "p_sh.view()\n",
    "print(p_sh.m.fragment_shader)"
   ]
  },
  {
   "cell_type": "code",
   "execution_count": 5,
   "id": "93f0be8d",
   "metadata": {},
   "outputs": [
    {
     "ename": "NameError",
     "evalue": "name 'rhs' is not defined",
     "output_type": "error",
     "traceback": [
      "\u001b[0;31m---------------------------------------------------------------------------\u001b[0m",
      "\u001b[0;31mNameError\u001b[0m                                 Traceback (most recent call last)",
      "Cell \u001b[0;32mIn [5], line 8\u001b[0m\n\u001b[1;32m      1\u001b[0m p \u001b[38;5;241m=\u001b[39m bk\u001b[38;5;241m.\u001b[39mbasisbank\u001b[38;5;241m.\u001b[39mget_gto(\u001b[38;5;241m1.0\u001b[39m, \u001b[38;5;241m1\u001b[39m,\u001b[38;5;241m1\u001b[39m, position \u001b[38;5;241m=\u001b[39m np\u001b[38;5;241m.\u001b[39marray([\u001b[38;5;241m0.0\u001b[39m,\u001b[38;5;241m0.0\u001b[39m, \u001b[38;5;241m0.0\u001b[39m]))\n\u001b[1;32m      5\u001b[0m l, m \u001b[38;5;241m=\u001b[39m \u001b[38;5;241m1\u001b[39m,\u001b[38;5;241m0\u001b[39m\n\u001b[0;32m----> 8\u001b[0m p \u001b[38;5;241m=\u001b[39m bk\u001b[38;5;241m.\u001b[39mket( \u001b[43mrhs\u001b[49m\u001b[38;5;241m.\u001b[39mget_gto(\u001b[38;5;241m2.5\u001b[39m, l, m), position \u001b[38;5;241m=\u001b[39m np\u001b[38;5;241m.\u001b[39marray([\u001b[38;5;241m1.0\u001b[39m, \u001b[38;5;241m0\u001b[39m,\u001b[38;5;241m0\u001b[39m]) )\n\u001b[1;32m      9\u001b[0m \u001b[38;5;66;03m#p.view()\u001b[39;00m\n\u001b[1;32m     10\u001b[0m display(p\u001b[38;5;241m.\u001b[39mket_sympy_expression)\n",
      "\u001b[0;31mNameError\u001b[0m: name 'rhs' is not defined"
     ]
    }
   ],
   "source": [
    "p = bk.basisbank.get_gto(1.0, 1,1, position = np.array([0.0,0.0, 0.0]))\n",
    "\n",
    "\n",
    "\n",
    "l, m = 1,0\n",
    "\n",
    "\n",
    "p = bk.ket( rhs.get_gto(2.5, l, m), position = np.array([1.0, 0,0]) )\n",
    "#p.view()\n",
    "display(p.ket_sympy_expression)\n",
    "\n",
    "mv = ev.BraketView(p, blender = '    gl_FragColor = vec4(.9*csR ,  csI, -1.0*csR, .1)', additive = True)\n",
    "#m\n",
    "\n",
    "#mv\n",
    "print(mv.fragment_shader)\n",
    "#mv"
   ]
  },
  {
   "cell_type": "code",
   "execution_count": null,
   "id": "3b7d018f",
   "metadata": {},
   "outputs": [],
   "source": [
    "p = bk.ket( sh.get_Nao(2.5, l, m), position = np.array([1.0, 0,0])  )\n",
    "#p.view()\n",
    "display(p.ket_sympy_expression)\n",
    "\n",
    "mv = ev.BraketView(p, blender = '    gl_FragColor = vec4(.9*csR ,  csI, -1.0*csR, .1)', additive = True)\n",
    "#m\n",
    "\n",
    "print(mv.fragment_shader)"
   ]
  },
  {
   "cell_type": "code",
   "execution_count": null,
   "id": "332fd8c1",
   "metadata": {},
   "outputs": [],
   "source": [
    "float cs0 = 4.4808984197113251*tex[2]*exp(-2.5*pow(tex[1], 2.0) - 2.5*pow(tex[2], 2.0) - 2.5*pow(tex[0] - 1.0, 2.0));\n",
    "float cs0 = 4.4808984197113251*tex[2]*exp(-2.5*pow(tex[1], 2.0) - 2.5*pow(tex[2], 2.0) - 2.5*pow(tex[0] - 1.0, 2.0));"
   ]
  },
  {
   "cell_type": "code",
   "execution_count": null,
   "id": "010584a4",
   "metadata": {},
   "outputs": [],
   "source": [
    "x = np.linspace(-10,10,100)\n",
    "\n",
    "import matplotlib.pyplot as plt\n",
    "\n",
    "\n",
    "p = bk.basisbank.get_gto(1.0, 1,1, position = np.array([0.0,0.0, 0.0]))\n",
    "plt.imshow(p(x[:, None], x[None, :], 0))"
   ]
  },
  {
   "cell_type": "code",
   "execution_count": null,
   "id": "4d005803",
   "metadata": {},
   "outputs": [],
   "source": []
  },
  {
   "cell_type": "code",
   "execution_count": null,
   "id": "e6b46efb",
   "metadata": {},
   "outputs": [],
   "source": [
    "np.math.pow(-2, 1)"
   ]
  },
  {
   "cell_type": "code",
   "execution_count": null,
   "id": "3001bb33",
   "metadata": {},
   "outputs": [],
   "source": [
    "import sympy as sp\n",
    "x = sp.symbols(\"x\")\n",
    "x**1"
   ]
  },
  {
   "cell_type": "code",
   "execution_count": 2,
   "id": "e07673aa",
   "metadata": {},
   "outputs": [
    {
     "data": {
      "application/vnd.jupyter.widget-view+json": {
       "model_id": "",
       "version_major": 2,
       "version_minor": 0
      },
      "text/plain": [
       "BraketView(ao=[1], bg_color=[0.0, 0.0, 0.0], fragment_shader='uniform vec3 user_color;\\nuniform float time;\\n\\…"
      ]
     },
     "execution_count": 2,
     "metadata": {},
     "output_type": "execute_result"
    }
   ],
   "source": [
    "bk.basisbank.get_gto(4.0, 15, -5).view()"
   ]
  },
  {
   "cell_type": "code",
   "execution_count": null,
   "id": "03de694e",
   "metadata": {},
   "outputs": [],
   "source": []
  }
 ],
 "metadata": {
  "kernelspec": {
   "display_name": "Python 3 (ipykernel)",
   "language": "python",
   "name": "python3"
  },
  "language_info": {
   "codemirror_mode": {
    "name": "ipython",
    "version": 3
   },
   "file_extension": ".py",
   "mimetype": "text/x-python",
   "name": "python",
   "nbconvert_exporter": "python",
   "pygments_lexer": "ipython3",
   "version": "3.10.6"
  }
 },
 "nbformat": 4,
 "nbformat_minor": 5
}
