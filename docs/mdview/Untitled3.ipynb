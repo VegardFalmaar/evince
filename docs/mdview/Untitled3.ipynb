{
 "cells": [
  {
   "cell_type": "code",
   "execution_count": 1,
   "id": "01a8c252",
   "metadata": {},
   "outputs": [],
   "source": [
    "import braketlab as bk\n",
    "import evince as ev\n",
    "\n",
    "from ipywidgets.embed import *"
   ]
  },
  {
   "cell_type": "code",
   "execution_count": null,
   "id": "56553c47",
   "metadata": {},
   "outputs": [],
   "source": [
    "embed_minimal_html"
   ]
  },
  {
   "cell_type": "code",
   "execution_count": null,
   "id": "554f6182",
   "metadata": {},
   "outputs": [],
   "source": [
    "p = bk.basisbank.get_gto(6.0, 4,2) #.view()\n",
    "p.energy = [1.2]\n",
    "\n",
    "q = bk.basisbank.get_gto(5.0, 3,1) #.view()\n",
    "q.energy = [1.18]\n",
    "\n",
    "r = bk.basisbank.get_gto(5.0, 3,-2) #.view()\n",
    "r.energy = [1.18]\n",
    "\n",
    "p = p+q+r"
   ]
  },
  {
   "cell_type": "code",
   "execution_count": null,
   "id": "5581ff8e",
   "metadata": {},
   "outputs": [],
   "source": [
    "mp = p.view(web = True)\n",
    "mp"
   ]
  },
  {
   "cell_type": "code",
   "execution_count": null,
   "id": "7f3dfeb1",
   "metadata": {},
   "outputs": [],
   "source": [
    "print(ev.braketview.generate_webgl_shader(p, time_dependent = True)[0])"
   ]
  },
  {
   "cell_type": "code",
   "execution_count": 2,
   "id": "ec51c03e",
   "metadata": {},
   "outputs": [
    {
     "name": "stderr",
     "output_type": "stream",
     "text": [
      "No artists with labels found to put in legend.  Note that artists whose label start with an underscore are ignored when legend() is called with no argument.\n"
     ]
    },
    {
     "data": {
      "image/png": "[encoded data removed]",
      "text/plain": [
       "<Figure size 600x600 with 1 Axes>"
      ]
     },
     "metadata": {},
     "output_type": "display_data"
    }
   ],
   "source": [
    "bk.view()"
   ]
  },
  {
   "cell_type": "code",
   "execution_count": null,
   "id": "ac8ab024",
   "metadata": {},
   "outputs": [],
   "source": []
  }
 ],
 "metadata": {
  "kernelspec": {
   "display_name": "Python 3 (ipykernel)",
   "language": "python",
   "name": "python3"
  },
  "language_info": {
   "codemirror_mode": {
    "name": "ipython",
    "version": 3
   },
   "file_extension": ".py",
   "mimetype": "text/x-python",
   "name": "python",
   "nbconvert_exporter": "python",
   "pygments_lexer": "ipython3",
   "version": "3.10.6"
  }
 },
 "nbformat": 4,
 "nbformat_minor": 5
}
