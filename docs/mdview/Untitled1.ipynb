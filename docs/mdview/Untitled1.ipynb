{
 "cells": [
  {
   "cell_type": "code",
   "execution_count": 2,
   "id": "df4ff9ba",
   "metadata": {},
   "outputs": [],
   "source": [
    "import braketlab as bk"
   ]
  },
  {
   "cell_type": "code",
   "execution_count": 4,
   "id": "5e006209",
   "metadata": {},
   "outputs": [
    {
     "data": {
      "application/vnd.jupyter.widget-view+json": {
       "model_id": "b6276d1635854835b3d329cb240245f2",
       "version_major": 2,
       "version_minor": 0
      },
      "text/plain": [
       "BraketView(additive=False, ao=[1], bg_color=[1.0, 1.0, 1.0], fragment_shader='uniform vec3 user_color;\\nunifor…"
      ]
     },
     "execution_count": 4,
     "metadata": {},
     "output_type": "execute_result"
    }
   ],
   "source": [
    "p2 = bk.basisbank.get_harmonic_oscillator_function(2)\n",
    "p5 = bk.basisbank.get_harmonic_oscillator_function(5)\n",
    "\n",
    "(p2 + p5).view(web = True)\n"
   ]
  },
  {
   "cell_type": "code",
   "execution_count": 5,
   "id": "655f225d",
   "metadata": {},
   "outputs": [
    {
     "data": {
      "application/vnd.jupyter.widget-view+json": {
       "model_id": "aff28a0aa94f4e43871bd46fd48a5c5e",
       "version_major": 2,
       "version_minor": 0
      },
      "text/plain": [
       "BraketView(ao=[1], bg_color=[0.0, 0.0, 0.0], fragment_shader='uniform vec3 user_color;\\nuniform float time;\\n\\…"
      ]
     },
     "execution_count": 5,
     "metadata": {},
     "output_type": "execute_result"
    }
   ],
   "source": [
    "(p2@p5).view()"
   ]
  },
  {
   "cell_type": "code",
   "execution_count": null,
   "id": "f2ae5466",
   "metadata": {},
   "outputs": [],
   "source": []
  }
 ],
 "metadata": {
  "kernelspec": {
   "display_name": "Python 3 (ipykernel)",
   "language": "python",
   "name": "python3"
  },
  "language_info": {
   "codemirror_mode": {
    "name": "ipython",
    "version": 3
   },
   "file_extension": ".py",
   "mimetype": "text/x-python",
   "name": "python",
   "nbconvert_exporter": "python",
   "pygments_lexer": "ipython3",
   "version": "3.10.6"
  }
 },
 "nbformat": 4,
 "nbformat_minor": 5
}
