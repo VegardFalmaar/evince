{
 "cells": [
  {
   "cell_type": "markdown",
   "id": "889302f4",
   "metadata": {},
   "source": [
    "## SpotlightView\n",
    "\n",
    "Evince has several extensions, or viewers, connecting the Python-kernel to the browsers front-end.\n",
    "\n",
    "The ```bubblebox.mdbox().view()``` calls a viewer called ```mdview```, tailored for high performance rendering of many particles. If you would rather make visually stunning models of real molecules, the ```SpotlightView``` viewer is your best option in Evince.\n",
    "\n",
    "For convenience, this option is included as a method of the mdbox-object called ```mdbox.evince()```. Use it as follows:"
   ]
  },
  {
   "cell_type": "code",
   "execution_count": null,
   "id": "ace00517",
   "metadata": {
    "scrolled": false
   },
   "outputs": [],
   "source": [
    "import bubblebox as bb\n",
    "from bubblebox.mdbox import lj_force, hook_force, coulomb_force\n",
    "import numpy as np\n",
    "\n",
    "\n",
    "N = 10**3\n",
    "# create a molecule (waterish)\n",
    "b = bb.showcase.repulsive_gas(N, size = (9,9,9))\n",
    "\n",
    "\n",
    "\n",
    "\n",
    "b.set_forces(lj_force, bubbles_a = np.arange(int(N/2)), bubbles_b = np.arange(int(N/2)), force_params = np.array([20.0, 1.0])) \n",
    "\n",
    "\n",
    "b.set_forces(lj_force, bubbles_a = np.arange(int(N/2), N), bubbles_b = np.arange(int(N/2), N), force_params = np.array([20.0, 1.2])) \n",
    "\n",
    "    \n",
    "b.r2_cut = 100\n",
    "\n",
    "b.view()"
   ]
  },
  {
   "cell_type": "code",
   "execution_count": null,
   "id": "b9c3b8a7",
   "metadata": {},
   "outputs": [],
   "source": [
    "#b.pos *= .8\n",
    "for i in range(10000):\n",
    "    for j in range(3):\n",
    "        b.advance()\n",
    "    b.vel_ *= .9\n",
    "    b.update_view()"
   ]
  },
  {
   "cell_type": "code",
   "execution_count": null,
   "id": "9e188601",
   "metadata": {},
   "outputs": [],
   "source": [
    "import bubblebox as bb\n",
    "from bubblebox.mdbox import lj_force, hook_force, coulomb_force\n",
    "import numpy as np\n",
    "\n",
    "\n",
    "## Water\n",
    "\n",
    "N = 100\n",
    "# create a molecule (waterish)\n",
    "b = bb.mdbox(3*N, size = (-8,-8,-8))\n",
    "\n",
    "\n",
    "\n",
    "\n",
    "b.set_forces(coulomb_force, bubbles_a = np.arange(3*N), bubbles_b = np.arange(3*N), force_params = np.array([1.0, -1.0])) \n",
    "\n",
    "masses = np.zeros(3*N)\n",
    "masses[:N] = 8\n",
    "masses[N:] = 1\n",
    "\n",
    "\n",
    "\n",
    "\n",
    "\n",
    "for i in range(N):\n",
    "    #b.pos[:, 3*i:3*(i+1)] = b.pos[:, 3*i:3*(i+1)]np.array([[0.000000 , 0.000000,  0.000000],[  0.758602 , 0.000000 , 0.504284], [0.758602 , 0.000000,  -0.504284]]).T + np.random.uniform(-10,10,(3,3))\n",
    "\n",
    "    b.set_forces(hook_force, bubbles_a = [3*i], bubbles_b = [3*i+1,3*i+2], force_params = np.array([10, 0.9109222508315404]))\n",
    "    b.set_forces(hook_force, bubbles_a = [3*i+1,3*i+2], bubbles_b = [3*i], force_params = np.array([10, 0.9109222508315404]))\n",
    "\n",
    "    \n",
    "    b.set_forces(hook_force, bubbles_a = [3*i+1,3*i+2], bubbles_b = [3*i+1, 3*i+2], force_params = np.array([10, 2*0.504284]))\n",
    "\n",
    "    masses[3*i:3*i+3] = np.array([8,1,1])\n",
    "    \n",
    "\n",
    "    \n",
    "b.pos *= .99\n",
    "b.set_masses(masses)\n",
    "b.r2_cut = 100000\n",
    "\n",
    "b.view()"
   ]
  },
  {
   "cell_type": "code",
   "execution_count": null,
   "id": "84aeafab",
   "metadata": {},
   "outputs": [],
   "source": [
    "#b.pos *= .8\n",
    "for i in range(10000):\n",
    "    for j in range(3):\n",
    "        b.advance()\n",
    "    b.vel_ *= .9\n",
    "    b.update_view()"
   ]
  },
  {
   "cell_type": "code",
   "execution_count": null,
   "id": "7f9ab5f4",
   "metadata": {},
   "outputs": [],
   "source": [
    "b.pos *=2\n",
    "\n",
    "b.evince()"
   ]
  },
  {
   "cell_type": "code",
   "execution_count": null,
   "id": "9953c33c",
   "metadata": {},
   "outputs": [],
   "source": []
  }
 ],
 "metadata": {
  "kernelspec": {
   "display_name": "Python 3 (ipykernel)",
   "language": "python",
   "name": "python3"
  },
  "language_info": {
   "codemirror_mode": {
    "name": "ipython",
    "version": 3
   },
   "file_extension": ".py",
   "mimetype": "text/x-python",
   "name": "python",
   "nbconvert_exporter": "python",
   "pygments_lexer": "ipython3",
   "version": "3.10.6"
  }
 },
 "nbformat": 4,
 "nbformat_minor": 5
}
