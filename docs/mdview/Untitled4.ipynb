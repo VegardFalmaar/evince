{
 "cells": [
  {
   "cell_type": "code",
   "execution_count": 1,
   "id": "859ef7a7",
   "metadata": {},
   "outputs": [],
   "source": [
    "import braketlab as bk\n",
    "import numpy as np\n",
    "import evince as ev\n",
    "import sympy as sp"
   ]
  },
  {
   "cell_type": "code",
   "execution_count": null,
   "id": "474cc3e8",
   "metadata": {},
   "outputs": [],
   "source": [
    "p = bk.basisbank.get_gto(2.0, 3,-1, position = np.array([0.0, 0,0]))\n",
    "#p.energy = [1.6]\n",
    "#v = ev.BraketView(p, n_concentric = 80, additive = True, bg_color = [0.0, 0.0, 0.0], blender='    gl_FragColor = gl_FragColor + vec4(csR, csI, -1.0*csR, .1)') \n",
    "\n",
    "# this one works seemingly\n",
    "#v = ev.BraketView(p, n_concentric = 80, additive = True, bg_color = [0.0, 0.0, 0.0], blender='    gl_FragColor = vec4(csR, csI, -1.0*csR, .1)') \n",
    "\n",
    "# web mode\n",
    "#v = ev.BraketView(p, n_concentric = 80, additive = False, bg_color = [1.0, 1.0, 1.0], blender='    gl_FragColor = vec4(.9*csR - csI,  .9*abs(csR) + csI, -1.0*csR - csI, .1)') \n",
    "\n",
    "# vr mode\n",
    "#v = ev.BraketView(p, n_concentric = 80, additive = True, bg_color = [0.0,0.0,0.0], blender='    gl_FragColor = vec4(.9*csR ,  csI, -1.0*csR, .1)') \n",
    "\n",
    "\n",
    "#p.view(web=True)\n",
    "#v\n",
    "p.view(web=True)"
   ]
  },
  {
   "cell_type": "code",
   "execution_count": null,
   "id": "1b7803a0",
   "metadata": {},
   "outputs": [],
   "source": [
    "x,y,z = bk.get_default_variables(0)\n",
    "\n",
    "p = bk.ket( 10*sp.exp(-.1*y**2-x**2) )\n",
    "q = bk.ket( 10*sp.exp(-.05*(y-.1)**2-.9*x**2) )\n",
    "\n",
    "(p-q).view(web = True)"
   ]
  },
  {
   "cell_type": "code",
   "execution_count": null,
   "id": "228e84c0",
   "metadata": {},
   "outputs": [],
   "source": [
    "len(p.ket_sympy_expression.free_symbols)"
   ]
  },
  {
   "cell_type": "code",
   "execution_count": 3,
   "id": "7d8d85fb",
   "metadata": {},
   "outputs": [
    {
     "data": {
      "text/latex": [
       "$\\displaystyle 5.70164376283992 x_{0; 0} x_{0; 1} x_{0; 2} e^{- \\left(x_{0; 0}^{2.0} + x_{0; 1}^{2.0} + x_{0; 2}^{2.0}\\right) 1.0}$"
      ],
      "text/plain": [
       "5.70164376283992*x_{0; 0}*x_{0; 1}*x_{0; 2}*exp(-(x_{0; 0}**2.0 + x_{0; 1}**2.0 + x_{0; 2}**2.0)*1.0)"
      ]
     },
     "execution_count": 3,
     "metadata": {},
     "output_type": "execute_result"
    }
   ],
   "source": [
    "bk.basisbank.get_gto(1.0, 3, -3).ket_sympy_expression"
   ]
  },
  {
   "cell_type": "code",
   "execution_count": 4,
   "id": "b8a439dd",
   "metadata": {},
   "outputs": [
    {
     "data": {
      "text/latex": [
       "$\\displaystyle 5.70164376283992 x_{0; 0} x_{0; 1} x_{0; 2} e^{- \\left(x_{0; 0}^{2.0} + x_{0; 1}^{2.0} + x_{0; 2}^{2.0}\\right) 1.0}$"
      ],
      "text/plain": [
       "5.70164376283992*x_{0; 0}*x_{0; 1}*x_{0; 2}*exp(-(x_{0; 0}**2.0 + x_{0; 1}**2.0 + x_{0; 2}**2.0)*1.0)"
      ]
     },
     "execution_count": 4,
     "metadata": {},
     "output_type": "execute_result"
    }
   ],
   "source": [
    "bk.basisbank.get_gto(1.0, 3, -2).ket_sympy_expression"
   ]
  },
  {
   "cell_type": "code",
   "execution_count": null,
   "id": "028b4417",
   "metadata": {},
   "outputs": [],
   "source": []
  }
 ],
 "metadata": {
  "kernelspec": {
   "display_name": "Python 3 (ipykernel)",
   "language": "python",
   "name": "python3"
  },
  "language_info": {
   "codemirror_mode": {
    "name": "ipython",
    "version": 3
   },
   "file_extension": ".py",
   "mimetype": "text/x-python",
   "name": "python",
   "nbconvert_exporter": "python",
   "pygments_lexer": "ipython3",
   "version": "3.10.6"
  }
 },
 "nbformat": 4,
 "nbformat_minor": 5
}
