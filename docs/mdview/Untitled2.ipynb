{
 "cells": [
  {
   "cell_type": "code",
   "execution_count": null,
   "id": "9f748920",
   "metadata": {},
   "outputs": [],
   "source": [
    "import numpy as np\n",
    "import bubblebox as bb\n",
    "import evince as ev"
   ]
  },
  {
   "cell_type": "code",
   "execution_count": null,
   "id": "c745f398",
   "metadata": {},
   "outputs": [],
   "source": [
    "b = bb.showcase.fcc_custom()\n",
    "b.pos *= 3\n",
    "b.masses = np.random.uniform(1,4, b.masses.shape)"
   ]
  },
  {
   "cell_type": "code",
   "execution_count": null,
   "id": "00e14c05",
   "metadata": {},
   "outputs": [],
   "source": [
    "ev.SpotlightView(b, dof = True, focus = 10, aperture = 0.001, max_blur = 0.01, sao = True, saoIntensity = 2, saoScale = 2000)\n",
    "\n"
   ]
  },
  {
   "cell_type": "code",
   "execution_count": null,
   "id": "b086d72f",
   "metadata": {},
   "outputs": [],
   "source": [
    "import ipywidgets as widgets\n",
    "from ipywidgets import embed\n",
    "\n",
    "embed.embed_minimal_html"
   ]
  },
  {
   "cell_type": "code",
   "execution_count": null,
   "id": "70611490",
   "metadata": {},
   "outputs": [],
   "source": []
  }
 ],
 "metadata": {
  "kernelspec": {
   "display_name": "Python 3 (ipykernel)",
   "language": "python",
   "name": "python3"
  },
  "language_info": {
   "codemirror_mode": {
    "name": "ipython",
    "version": 3
   },
   "file_extension": ".py",
   "mimetype": "text/x-python",
   "name": "python",
   "nbconvert_exporter": "python",
   "pygments_lexer": "ipython3",
   "version": "3.10.6"
  }
 },
 "nbformat": 4,
 "nbformat_minor": 5
}
