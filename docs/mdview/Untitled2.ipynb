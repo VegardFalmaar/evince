{
 "cells": [
  {
   "cell_type": "code",
   "execution_count": 2,
   "id": "9f748920",
   "metadata": {},
   "outputs": [],
   "source": [
    "import numpy as np\n",
    "import bubblebox as bb\n",
    "from bubblebox.mdbox import hook_force\n",
    "import evince as ev"
   ]
  },
  {
   "cell_type": "code",
   "execution_count": 1,
   "id": "c745f398",
   "metadata": {},
   "outputs": [
    {
     "ename": "NameError",
     "evalue": "name 'bb' is not defined",
     "output_type": "error",
     "traceback": [
      "\u001b[0;31m---------------------------------------------------------------------------\u001b[0m",
      "\u001b[0;31mNameError\u001b[0m                                 Traceback (most recent call last)",
      "Input \u001b[0;32mIn [1]\u001b[0m, in \u001b[0;36m<cell line: 3>\u001b[0;34m()\u001b[0m\n\u001b[1;32m      1\u001b[0m N \u001b[38;5;241m=\u001b[39m \u001b[38;5;241m100\u001b[39m\n\u001b[0;32m----> 3\u001b[0m b \u001b[38;5;241m=\u001b[39m \u001b[43mbb\u001b[49m\u001b[38;5;241m.\u001b[39mshowcase\u001b[38;5;241m.\u001b[39mrepulsive_gas(N)\n\u001b[1;32m      5\u001b[0m bubbles_a \u001b[38;5;241m=\u001b[39m np\u001b[38;5;241m.\u001b[39marange(\u001b[38;5;28mint\u001b[39m(N\u001b[38;5;241m/\u001b[39m\u001b[38;5;241m2\u001b[39m))\n\u001b[1;32m      6\u001b[0m bubbles_b \u001b[38;5;241m=\u001b[39m np\u001b[38;5;241m.\u001b[39marange(\u001b[38;5;28mint\u001b[39m(N\u001b[38;5;241m/\u001b[39m\u001b[38;5;241m2\u001b[39m))\u001b[38;5;241m+\u001b[39m\u001b[38;5;28mint\u001b[39m(N\u001b[38;5;241m/\u001b[39m\u001b[38;5;241m2\u001b[39m)\n",
      "\u001b[0;31mNameError\u001b[0m: name 'bb' is not defined"
     ]
    }
   ],
   "source": [
    "N = 100\n",
    "\n",
    "b = bb.showcase.repulsive_gas(N)\n",
    "\n",
    "bubbles_a = np.arange(int(N/2))\n",
    "bubbles_b = np.arange(int(N/2))+int(N/2)\n",
    "\n",
    "b.set_forces(hook_force, bubbles_a, bubbles_b, force_params = np.array([2,2]))\n",
    "\n",
    "b.r2_cut = 100\n",
    "\n",
    "\n",
    "b.view()"
   ]
  },
  {
   "cell_type": "code",
   "execution_count": null,
   "id": "126b7f1f",
   "metadata": {},
   "outputs": [],
   "source": [
    "for i in range(10000):\n",
    "    for j in range(3):\n",
    "        b.advance()\n",
    "    b.vel_*=.99\n",
    "    b.update_view()"
   ]
  },
  {
   "cell_type": "code",
   "execution_count": 3,
   "id": "00e14c05",
   "metadata": {},
   "outputs": [
    {
     "ename": "NameError",
     "evalue": "name 'b' is not defined",
     "output_type": "error",
     "traceback": [
      "\u001b[0;31m---------------------------------------------------------------------------\u001b[0m",
      "\u001b[0;31mNameError\u001b[0m                                 Traceback (most recent call last)",
      "Input \u001b[0;32mIn [3]\u001b[0m, in \u001b[0;36m<cell line: 1>\u001b[0;34m()\u001b[0m\n\u001b[0;32m----> 1\u001b[0m ev\u001b[38;5;241m.\u001b[39mSpotlightView(\u001b[43mb\u001b[49m, realism \u001b[38;5;241m=\u001b[39m \u001b[38;5;28;01mFalse\u001b[39;00m, dof \u001b[38;5;241m=\u001b[39m \u001b[38;5;28;01mTrue\u001b[39;00m, focus \u001b[38;5;241m=\u001b[39m \u001b[38;5;241m10\u001b[39m, aperture \u001b[38;5;241m=\u001b[39m \u001b[38;5;241m0.001\u001b[39m, max_blur \u001b[38;5;241m=\u001b[39m \u001b[38;5;241m0.01\u001b[39m, sao \u001b[38;5;241m=\u001b[39m \u001b[38;5;28;01mTrue\u001b[39;00m, saoIntensity \u001b[38;5;241m=\u001b[39m \u001b[38;5;241m2\u001b[39m, saoScale \u001b[38;5;241m=\u001b[39m \u001b[38;5;241m2000\u001b[39m)\n",
      "\u001b[0;31mNameError\u001b[0m: name 'b' is not defined"
     ]
    }
   ],
   "source": [
    "ev.SpotlightView(b, realism = False, dof = True, focus = 10, aperture = 0.001, max_blur = 0.01, sao = True, saoIntensity = 2, saoScale = 2000)\n",
    "\n"
   ]
  },
  {
   "cell_type": "code",
   "execution_count": null,
   "id": "b086d72f",
   "metadata": {},
   "outputs": [],
   "source": [
    "import ipywidgets as widgets\n",
    "from ipywidgets import embed\n",
    "\n",
    "embed.embed_minimal_html"
   ]
  },
  {
   "cell_type": "code",
   "execution_count": null,
   "id": "70611490",
   "metadata": {},
   "outputs": [],
   "source": []
  }
 ],
 "metadata": {
  "kernelspec": {
   "display_name": "Python 3 (ipykernel)",
   "language": "python",
   "name": "python3"
  },
  "language_info": {
   "codemirror_mode": {
    "name": "ipython",
    "version": 3
   },
   "file_extension": ".py",
   "mimetype": "text/x-python",
   "name": "python",
   "nbconvert_exporter": "python",
   "pygments_lexer": "ipython3",
   "version": "3.10.6"
  }
 },
 "nbformat": 4,
 "nbformat_minor": 5
}
