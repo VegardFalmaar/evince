{
 "cells": [
  {
   "cell_type": "code",
   "execution_count": null,
   "id": "9f89d3b7",
   "metadata": {},
   "outputs": [],
   "source": [
    "import bubblebox as bb\n",
    "import evince as ev\n",
    "ev.enable_notebook()"
   ]
  },
  {
   "cell_type": "code",
   "execution_count": null,
   "id": "1504fa57",
   "metadata": {},
   "outputs": [],
   "source": [
    "b = bb.mdbox(n_bubbles = 15**3, size = (30,-30, 30), vel = 1000)\n",
    "b.view()"
   ]
  },
  {
   "cell_type": "code",
   "execution_count": null,
   "id": "f51bc129",
   "metadata": {},
   "outputs": [],
   "source": [
    "# hacky way of stresstesting visualization\n",
    "import numpy as np\n",
    "\n",
    "class dummy:\n",
    "    def __init__(self, n):\n",
    "        self.pos = np.random.uniform(-100,100,(3,n))\n",
    "        self.masses = np.random.uniform(.1,100,n)\n",
    "        self.size = np.array([-100,-100,-100])\n",
    "        \n",
    "        \n",
    "b = dummy(10**6) #testing 100\n",
    "\n",
    "m = ev.MDView(b)\n",
    "\n",
    "m"
   ]
  },
  {
   "cell_type": "code",
   "execution_count": null,
   "id": "6bcafcc3",
   "metadata": {},
   "outputs": [],
   "source": [
    "help(ev.mdview)"
   ]
  },
  {
   "cell_type": "code",
   "execution_count": null,
   "id": "e572e2be",
   "metadata": {},
   "outputs": [],
   "source": []
  }
 ],
 "metadata": {
  "kernelspec": {
   "display_name": "Python 3 (ipykernel)",
   "language": "python",
   "name": "python3"
  },
  "language_info": {
   "codemirror_mode": {
    "name": "ipython",
    "version": 3
   },
   "file_extension": ".py",
   "mimetype": "text/x-python",
   "name": "python",
   "nbconvert_exporter": "python",
   "pygments_lexer": "ipython3",
   "version": "3.7.4"
  }
 },
 "nbformat": 4,
 "nbformat_minor": 5
}
